{
 "cells": [
  {
   "cell_type": "markdown",
   "metadata": {},
   "source": [
    "# Preprocessing"
   ]
  },
  {
   "cell_type": "markdown",
   "metadata": {},
   "source": [
    "## Libraries and preparations"
   ]
  },
  {
   "cell_type": "code",
   "execution_count": 1,
   "metadata": {
    "id": "-aY7O6dWUjKf"
   },
   "outputs": [],
   "source": [
    "import warnings\n",
    "warnings.filterwarnings(\"ignore\", category=DeprecationWarning)"
   ]
  },
  {
   "cell_type": "code",
   "execution_count": 2,
   "metadata": {
    "colab": {
     "base_uri": "https://localhost:8080/"
    },
    "id": "EyUCExo14Wxv",
    "outputId": "68dc9530-ebff-40e5-ea3b-61f06d0b0729"
   },
   "outputs": [
    {
     "name": "stderr",
     "output_type": "stream",
     "text": [
      "[nltk_data] Downloading package stopwords to\n",
      "[nltk_data]     C:\\Users\\Emir\\AppData\\Roaming\\nltk_data...\n",
      "[nltk_data]   Package stopwords is already up-to-date!\n",
      "[nltk_data] Downloading package wordnet to\n",
      "[nltk_data]     C:\\Users\\Emir\\AppData\\Roaming\\nltk_data...\n",
      "[nltk_data]   Package wordnet is already up-to-date!\n"
     ]
    },
    {
     "data": {
      "text/plain": [
       "True"
      ]
     },
     "execution_count": 2,
     "metadata": {},
     "output_type": "execute_result"
    }
   ],
   "source": [
    "import pandas as pd\n",
    "import json\n",
    "from collections import Counter\n",
    "import gensim\n",
    "from gensim.corpora import Dictionary\n",
    "from gensim.models import HdpModel, LdaModel, CoherenceModel, Phrases\n",
    "from gensim.models.phrases import Phraser, Phrases\n",
    "from nltk.corpus import stopwords\n",
    "from nltk.stem import WordNetLemmatizer\n",
    "import string\n",
    "import nltk\n",
    "from nltk.corpus import stopwords\n",
    "import re\n",
    "import numpy as np\n",
    "import matplotlib.pyplot as plt\n",
    "from sklearn.metrics.pairwise import cosine_similarity\n",
    "from scipy.cluster.hierarchy import dendrogram, linkage, fcluster\n",
    "import pyLDAvis\n",
    "import pyLDAvis.gensim_models as gensimvis\n",
    "from dotenv import load_dotenv, find_dotenv\n",
    "import openai\n",
    "import os\n",
    "from sklearn.pipeline import Pipeline\n",
    "from sklearn.feature_extraction.text import TfidfVectorizer\n",
    "from sklearn.linear_model import LogisticRegression\n",
    "from sklearn.metrics import classification_report, accuracy_score\n",
    "from sklearn.metrics import confusion_matrix\n",
    "from sklearn.model_selection import GridSearchCV\n",
    "from tqdm import tqdm\n",
    "import matplotlib.pyplot as plt\n",
    "import seaborn as sns\n",
    "import time\n",
    "import csv\n",
    "import requests\n",
    "\n",
    "# Download necessary NLTK data\n",
    "nltk.download('stopwords')\n",
    "nltk.download('wordnet')"
   ]
  },
  {
   "cell_type": "code",
   "execution_count": 3,
   "metadata": {},
   "outputs": [],
   "source": [
    "load_dotenv(find_dotenv())\n",
    "SECRET_KEY = os.environ.get(\"OPENAI_KEY\")\n",
    "os.environ['OPENAI_API_KEY'] = SECRET_KEY"
   ]
  },
  {
   "cell_type": "markdown",
   "metadata": {},
   "source": [
    "## Download data and create folder"
   ]
  },
  {
   "cell_type": "code",
   "execution_count": 14,
   "metadata": {},
   "outputs": [
    {
     "name": "stdout",
     "output_type": "stream",
     "text": [
      "Folder exists: ../data/raw/squad/\n",
      "Folder exists: ../data/raw/pubmedqa/\n",
      "Created missing folder: ../data/cleaned/squad\n",
      "Created missing folder: ../data/cleaned/pubmedqa\n"
     ]
    }
   ],
   "source": [
    "# Create folders\n",
    "required_folders = [\n",
    "    '../data/raw/squad/',\n",
    "    '../data/raw/pubmedqa/',\n",
    "    '../data/cleaned/squad',\n",
    "    '../data/cleaned/pubmedqa'\n",
    "]\n",
    "\n",
    "for folder in required_folders:\n",
    "    if not os.path.exists(folder):\n",
    "        os.makedirs(folder, exist_ok=True)\n",
    "        print(f\"Created missing folder: {folder}\")\n",
    "    else:\n",
    "        print(f\"Folder exists: {folder}\")"
   ]
  },
  {
   "cell_type": "code",
   "execution_count": 7,
   "metadata": {},
   "outputs": [
    {
     "name": "stdout",
     "output_type": "stream",
     "text": [
      "SQuAD dataset not found at ../data/raw/squad/train-v2.0.json. Downloading...\n",
      "SQuAD dataset downloaded and saved at ../data/raw/squad/train-v2.0.json.\n"
     ]
    }
   ],
   "source": [
    "# Define SQuAD dataset URL and file path\n",
    "squad_url = \"https://rajpurkar.github.io/SQuAD-explorer/dataset/train-v2.0.json\"\n",
    "json_file_path = \"../data/raw/squad/train-v2.0.json\"\n",
    "\n",
    "# Check if the SQuAD dataset exists, and download if not\n",
    "if not os.path.exists(json_file_path):\n",
    "    print(f\"SQuAD dataset not found at {json_file_path}. Downloading...\")\n",
    "    os.makedirs(os.path.dirname(json_file_path), exist_ok=True)\n",
    "    \n",
    "    response = requests.get(squad_url)\n",
    "    if response.status_code == 200:\n",
    "        with open(json_file_path, \"wb\") as f:\n",
    "            f.write(response.content)\n",
    "        print(f\"SQuAD dataset downloaded and saved at {json_file_path}.\")\n",
    "    else:\n",
    "        raise Exception(f\"Failed to download SQuAD dataset. HTTP Status Code: {response.status_code}\")"
   ]
  },
  {
   "cell_type": "code",
   "execution_count": 8,
   "metadata": {},
   "outputs": [
    {
     "name": "stdout",
     "output_type": "stream",
     "text": [
      "PubMedQA dataset not found at ../data/raw/pubmedqa/train-00000-of-00001.parquet. Downloading...\n",
      "PubMedQA dataset downloaded and saved at ../data/raw/pubmedqa/train-00000-of-00001.parquet.\n"
     ]
    }
   ],
   "source": [
    "# Define PubMedQA dataset URL and file path\n",
    "pubmedqa_url = \"https://huggingface.co/datasets/qiaojin/PubMedQA/resolve/main/pqa_artificial/train-00000-of-00001.parquet\"\n",
    "pubmedqa_path = \"../data/raw/pubmedqa/train-00000-of-00001.parquet\"\n",
    "\n",
    "# Check if the PubMedQA dataset exists, and download if not\n",
    "if not os.path.exists(pubmedqa_path):\n",
    "    print(f\"PubMedQA dataset not found at {pubmedqa_path}. Downloading...\")\n",
    "    os.makedirs(os.path.dirname(pubmedqa_path), exist_ok=True)\n",
    "    \n",
    "    response = requests.get(pubmedqa_url)\n",
    "    if response.status_code == 200:\n",
    "        with open(pubmedqa_path, \"wb\") as f:\n",
    "            f.write(response.content)\n",
    "        print(f\"PubMedQA dataset downloaded and saved at {pubmedqa_path}.\")\n",
    "    else:\n",
    "        raise Exception(f\"Failed to download PubMedQA dataset. HTTP Status Code: {response.status_code}\")"
   ]
  },
  {
   "cell_type": "markdown",
   "metadata": {
    "id": "48IhYV2K3QfN"
   },
   "source": [
    "## Education - SQUAD 2.0 Dataset"
   ]
  },
  {
   "cell_type": "markdown",
   "metadata": {
    "id": "WH3fVniZ5KoM"
   },
   "source": [
    "### Loading data"
   ]
  },
  {
   "cell_type": "markdown",
   "metadata": {},
   "source": [
    "Dataset needs to be downloaded from: https://rajpurkar.github.io/SQuAD-explorer/"
   ]
  },
  {
   "cell_type": "code",
   "execution_count": 10,
   "metadata": {
    "colab": {
     "base_uri": "https://localhost:8080/",
     "height": 263
    },
    "id": "cTRop5475Mye",
    "outputId": "98adc744-a801-4843-a968-223378dde5e1"
   },
   "outputs": [
    {
     "data": {
      "text/html": [
       "<div>\n",
       "<style scoped>\n",
       "    .dataframe tbody tr th:only-of-type {\n",
       "        vertical-align: middle;\n",
       "    }\n",
       "\n",
       "    .dataframe tbody tr th {\n",
       "        vertical-align: top;\n",
       "    }\n",
       "\n",
       "    .dataframe thead th {\n",
       "        text-align: right;\n",
       "    }\n",
       "</style>\n",
       "<table border=\"1\" class=\"dataframe\">\n",
       "  <thead>\n",
       "    <tr style=\"text-align: right;\">\n",
       "      <th></th>\n",
       "      <th>context</th>\n",
       "      <th>question</th>\n",
       "      <th>is_impossible</th>\n",
       "      <th>answers</th>\n",
       "    </tr>\n",
       "  </thead>\n",
       "  <tbody>\n",
       "    <tr>\n",
       "      <th>0</th>\n",
       "      <td>Beyoncé Giselle Knowles-Carter (/biːˈjɒnseɪ/ b...</td>\n",
       "      <td>When did Beyonce start becoming popular?</td>\n",
       "      <td>False</td>\n",
       "      <td>[in the late 1990s]</td>\n",
       "    </tr>\n",
       "    <tr>\n",
       "      <th>1</th>\n",
       "      <td>Beyoncé Giselle Knowles-Carter (/biːˈjɒnseɪ/ b...</td>\n",
       "      <td>What areas did Beyonce compete in when she was...</td>\n",
       "      <td>False</td>\n",
       "      <td>[singing and dancing]</td>\n",
       "    </tr>\n",
       "    <tr>\n",
       "      <th>2</th>\n",
       "      <td>Beyoncé Giselle Knowles-Carter (/biːˈjɒnseɪ/ b...</td>\n",
       "      <td>When did Beyonce leave Destiny's Child and bec...</td>\n",
       "      <td>False</td>\n",
       "      <td>[2003]</td>\n",
       "    </tr>\n",
       "    <tr>\n",
       "      <th>3</th>\n",
       "      <td>Beyoncé Giselle Knowles-Carter (/biːˈjɒnseɪ/ b...</td>\n",
       "      <td>In what city and state did Beyonce  grow up?</td>\n",
       "      <td>False</td>\n",
       "      <td>[Houston, Texas]</td>\n",
       "    </tr>\n",
       "    <tr>\n",
       "      <th>4</th>\n",
       "      <td>Beyoncé Giselle Knowles-Carter (/biːˈjɒnseɪ/ b...</td>\n",
       "      <td>In which decade did Beyonce become famous?</td>\n",
       "      <td>False</td>\n",
       "      <td>[late 1990s]</td>\n",
       "    </tr>\n",
       "  </tbody>\n",
       "</table>\n",
       "</div>"
      ],
      "text/plain": [
       "                                             context  \\\n",
       "0  Beyoncé Giselle Knowles-Carter (/biːˈjɒnseɪ/ b...   \n",
       "1  Beyoncé Giselle Knowles-Carter (/biːˈjɒnseɪ/ b...   \n",
       "2  Beyoncé Giselle Knowles-Carter (/biːˈjɒnseɪ/ b...   \n",
       "3  Beyoncé Giselle Knowles-Carter (/biːˈjɒnseɪ/ b...   \n",
       "4  Beyoncé Giselle Knowles-Carter (/biːˈjɒnseɪ/ b...   \n",
       "\n",
       "                                            question  is_impossible  \\\n",
       "0           When did Beyonce start becoming popular?          False   \n",
       "1  What areas did Beyonce compete in when she was...          False   \n",
       "2  When did Beyonce leave Destiny's Child and bec...          False   \n",
       "3      In what city and state did Beyonce  grow up?           False   \n",
       "4         In which decade did Beyonce become famous?          False   \n",
       "\n",
       "                 answers  \n",
       "0    [in the late 1990s]  \n",
       "1  [singing and dancing]  \n",
       "2                 [2003]  \n",
       "3       [Houston, Texas]  \n",
       "4           [late 1990s]  "
      ]
     },
     "execution_count": 10,
     "metadata": {},
     "output_type": "execute_result"
    }
   ],
   "source": [
    "# Define the path to JSON file\n",
    "json_file_path = '../data/raw/squad/train-v2.0.json'\n",
    "\n",
    "# Open and load the JSON file\n",
    "with open(json_file_path, 'r', encoding='utf-8') as file:\n",
    "    squad_data = json.load(file)\n",
    "\n",
    "# Extract the 'data' key from the JSON structure\n",
    "data = squad_data['data']\n",
    "\n",
    "# Prepare a list to hold the extracted question-answer pairs\n",
    "qa_pairs = []\n",
    "\n",
    "# Loop through the data and extract relevant information\n",
    "for topic in data:\n",
    "    for paragraph in topic['paragraphs']:\n",
    "        context = paragraph['context']\n",
    "        for qa in paragraph['qas']:\n",
    "            question = qa['question']\n",
    "            is_impossible = qa['is_impossible']\n",
    "            answers = [answer['text'] for answer in qa['answers']]\n",
    "            qa_pairs.append({\n",
    "                'context': context,\n",
    "                'question': question,\n",
    "                'is_impossible': is_impossible,\n",
    "                'answers': answers\n",
    "            })\n",
    "\n",
    "# Convert the list of question-answer pairs into a DataFrame\n",
    "df_squad = pd.DataFrame(qa_pairs)\n",
    "\n",
    "# Display the DataFrame\n",
    "df_squad.head()"
   ]
  },
  {
   "cell_type": "code",
   "execution_count": 11,
   "metadata": {
    "colab": {
     "base_uri": "https://localhost:8080/"
    },
    "id": "zIf-2V_P5Sml",
    "outputId": "4e832f81-167b-461c-dac0-044ce5ff7a2d"
   },
   "outputs": [
    {
     "data": {
      "text/plain": [
       "(130319, 4)"
      ]
     },
     "execution_count": 11,
     "metadata": {},
     "output_type": "execute_result"
    }
   ],
   "source": [
    "df_squad.shape"
   ]
  },
  {
   "cell_type": "code",
   "execution_count": 12,
   "metadata": {
    "colab": {
     "base_uri": "https://localhost:8080/"
    },
    "id": "XRRRTsmI5Uxy",
    "outputId": "8f9e4ffb-0db9-4b30-b565-8e9e2fdf1d3c"
   },
   "outputs": [
    {
     "data": {
      "text/plain": [
       "19029"
      ]
     },
     "execution_count": 12,
     "metadata": {},
     "output_type": "execute_result"
    }
   ],
   "source": [
    "len(df_squad['context'].unique())"
   ]
  },
  {
   "cell_type": "markdown",
   "metadata": {
    "id": "cQD9EFAw6xfy"
   },
   "source": [
    "### Pre-processing and Quality tests"
   ]
  },
  {
   "cell_type": "code",
   "execution_count": 7,
   "metadata": {
    "colab": {
     "base_uri": "https://localhost:8080/"
    },
    "id": "GAnZuJmI6x4-",
    "outputId": "15bbea89-be75-4417-89a3-941857bbeb8a"
   },
   "outputs": [
    {
     "name": "stdout",
     "output_type": "stream",
     "text": [
      "Number of Possible Questions (is_impossible = False): 86821\n",
      "Number of Impossible Questions (is_impossible = True): 43498\n",
      "\n",
      "Sample of Possible Questions:\n",
      "                                             context  \\\n",
      "0  Beyoncé Giselle Knowles-Carter (/biːˈjɒnseɪ/ b...   \n",
      "1  Beyoncé Giselle Knowles-Carter (/biːˈjɒnseɪ/ b...   \n",
      "2  Beyoncé Giselle Knowles-Carter (/biːˈjɒnseɪ/ b...   \n",
      "3  Beyoncé Giselle Knowles-Carter (/biːˈjɒnseɪ/ b...   \n",
      "4  Beyoncé Giselle Knowles-Carter (/biːˈjɒnseɪ/ b...   \n",
      "\n",
      "                                            question  is_impossible  \\\n",
      "0           When did Beyonce start becoming popular?          False   \n",
      "1  What areas did Beyonce compete in when she was...          False   \n",
      "2  When did Beyonce leave Destiny's Child and bec...          False   \n",
      "3      In what city and state did Beyonce  grow up?           False   \n",
      "4         In which decade did Beyonce become famous?          False   \n",
      "\n",
      "                 answers  \n",
      "0    [in the late 1990s]  \n",
      "1  [singing and dancing]  \n",
      "2                 [2003]  \n",
      "3       [Houston, Texas]  \n",
      "4           [late 1990s]  \n"
     ]
    },
    {
     "name": "stderr",
     "output_type": "stream",
     "text": [
      "/usr/local/lib/python3.10/dist-packages/ipykernel/ipkernel.py:283: DeprecationWarning: `should_run_async` will not call `transform_cell` automatically in the future. Please pass the result to `transformed_cell` argument and any exception that happen during thetransform in `preprocessing_exc_tuple` in IPython 7.17 and above.\n",
      "  and should_run_async(code)\n"
     ]
    }
   ],
   "source": [
    "# Print out the breakdown of impossible and possible questions\n",
    "impossible_counts = df_squad['is_impossible'].value_counts()\n",
    "\n",
    "print(\"Number of Possible Questions (is_impossible = False):\", impossible_counts.get(False, 0))\n",
    "print(\"Number of Impossible Questions (is_impossible = True):\", impossible_counts.get(True, 0))\n",
    "\n",
    "# Create a new DataFrame containing only the possible questions\n",
    "df_possible = df_squad[df_squad['is_impossible'] == False].reset_index(drop=True)\n",
    "\n",
    "# Optional: Display the first few rows of the new DataFrame\n",
    "print(\"\\nSample of Possible Questions:\")\n",
    "print(df_possible.head())"
   ]
  },
  {
   "cell_type": "code",
   "execution_count": 8,
   "metadata": {
    "colab": {
     "base_uri": "https://localhost:8080/"
    },
    "id": "XBTqL4LQjv4D",
    "outputId": "aead09c7-0fdd-4344-aa63-0bbfec3b7021"
   },
   "outputs": [
    {
     "name": "stderr",
     "output_type": "stream",
     "text": [
      "/usr/local/lib/python3.10/dist-packages/ipykernel/ipkernel.py:283: DeprecationWarning: `should_run_async` will not call `transform_cell` automatically in the future. Please pass the result to `transformed_cell` argument and any exception that happen during thetransform in `preprocessing_exc_tuple` in IPython 7.17 and above.\n",
      "  and should_run_async(code)\n"
     ]
    },
    {
     "data": {
      "text/plain": [
       "18877"
      ]
     },
     "execution_count": 8,
     "metadata": {},
     "output_type": "execute_result"
    }
   ],
   "source": [
    "len(df_possible['context'].unique())"
   ]
  },
  {
   "cell_type": "code",
   "execution_count": 9,
   "metadata": {
    "colab": {
     "base_uri": "https://localhost:8080/"
    },
    "id": "zAiX2Soz7CHp",
    "outputId": "e9d43406-15ea-4877-e0e1-76806a53df65"
   },
   "outputs": [
    {
     "name": "stdout",
     "output_type": "stream",
     "text": [
      "\n",
      "Missing values in each column:\n",
      "context     0\n",
      "question    0\n",
      "answers     0\n",
      "dtype: int64\n"
     ]
    },
    {
     "name": "stderr",
     "output_type": "stream",
     "text": [
      "/usr/local/lib/python3.10/dist-packages/ipykernel/ipkernel.py:283: DeprecationWarning: `should_run_async` will not call `transform_cell` automatically in the future. Please pass the result to `transformed_cell` argument and any exception that happen during thetransform in `preprocessing_exc_tuple` in IPython 7.17 and above.\n",
      "  and should_run_async(code)\n"
     ]
    }
   ],
   "source": [
    "# Check for missing values in key columns\n",
    "missing_values = df_possible[['context', 'question', 'answers']].isnull().sum()\n",
    "print(\"\\nMissing values in each column:\")\n",
    "print(missing_values)"
   ]
  },
  {
   "cell_type": "code",
   "execution_count": 10,
   "metadata": {
    "colab": {
     "base_uri": "https://localhost:8080/"
    },
    "id": "wdkeTDD97DPk",
    "outputId": "11cc2a33-3282-462e-b5f7-0f7ad5f15b5d"
   },
   "outputs": [
    {
     "name": "stdout",
     "output_type": "stream",
     "text": [
      "\n",
      "Number of duplicate questions: 104\n",
      "\n",
      "Sample of duplicate questions:\n",
      "                                             question  \\\n",
      "251            When did Beyonce have her first child?   \n",
      "255            When did Beyonce have her first child?   \n",
      "786  In what year did Chopin become a French citizen?   \n",
      "916                What year did Chopin leave Warsaw?   \n",
      "920                What year did Chopin leave Warsaw?   \n",
      "\n",
      "                                               context  \n",
      "251  On January 7, 2012, Beyoncé gave birth to her ...  \n",
      "255  On January 7, 2012, Beyoncé gave birth to her ...  \n",
      "786  At the age of 21 he settled in Paris. Thereaft...  \n",
      "916  In 1827, soon after the death of Chopin's youn...  \n",
      "920  In 1827, soon after the death of Chopin's youn...  \n"
     ]
    },
    {
     "name": "stderr",
     "output_type": "stream",
     "text": [
      "/usr/local/lib/python3.10/dist-packages/ipykernel/ipkernel.py:283: DeprecationWarning: `should_run_async` will not call `transform_cell` automatically in the future. Please pass the result to `transformed_cell` argument and any exception that happen during thetransform in `preprocessing_exc_tuple` in IPython 7.17 and above.\n",
      "  and should_run_async(code)\n"
     ]
    }
   ],
   "source": [
    "# Check for duplicate questions\n",
    "duplicate_questions = df_possible[df_possible['question'].duplicated(keep=False)]\n",
    "\n",
    "print(f\"\\nNumber of duplicate questions: {len(duplicate_questions)}\")\n",
    "\n",
    "if not duplicate_questions.empty:\n",
    "    print(\"\\nSample of duplicate questions:\")\n",
    "    print(duplicate_questions[['question', 'context']].head())\n"
   ]
  },
  {
   "cell_type": "code",
   "execution_count": 11,
   "metadata": {
    "colab": {
     "base_uri": "https://localhost:8080/"
    },
    "id": "8OzBuFdJ7Euv",
    "outputId": "a929b58a-5bae-447e-a547-bb5275288baf"
   },
   "outputs": [
    {
     "name": "stdout",
     "output_type": "stream",
     "text": [
      "Number of rows before removing duplicates: 86821\n",
      "Number of rows after removing duplicates: 86785\n",
      "Number of duplicate question-context pairs removed: 36\n"
     ]
    },
    {
     "name": "stderr",
     "output_type": "stream",
     "text": [
      "/usr/local/lib/python3.10/dist-packages/ipykernel/ipkernel.py:283: DeprecationWarning: `should_run_async` will not call `transform_cell` automatically in the future. Please pass the result to `transformed_cell` argument and any exception that happen during thetransform in `preprocessing_exc_tuple` in IPython 7.17 and above.\n",
      "  and should_run_async(code)\n"
     ]
    }
   ],
   "source": [
    "# Number of rows before removing duplicates\n",
    "num_rows_before = len(df_possible)\n",
    "\n",
    "# Remove duplicates based on 'question' and 'context' columns\n",
    "df_possible = df_possible.drop_duplicates(subset=['question', 'context']).reset_index(drop=True)\n",
    "\n",
    "# Number of rows after removing duplicates\n",
    "num_rows_after = len(df_possible)\n",
    "\n",
    "print(f\"Number of rows before removing duplicates: {num_rows_before}\")\n",
    "print(f\"Number of rows after removing duplicates: {num_rows_after}\")\n",
    "print(f\"Number of duplicate question-context pairs removed: {num_rows_before - num_rows_after}\")"
   ]
  },
  {
   "cell_type": "code",
   "execution_count": 12,
   "metadata": {
    "colab": {
     "base_uri": "https://localhost:8080/"
    },
    "id": "pracaaJ77G1v",
    "outputId": "6c3a2796-1755-46cc-92f1-4807a481da37"
   },
   "outputs": [
    {
     "name": "stderr",
     "output_type": "stream",
     "text": [
      "/usr/local/lib/python3.10/dist-packages/ipykernel/ipkernel.py:283: DeprecationWarning: `should_run_async` will not call `transform_cell` automatically in the future. Please pass the result to `transformed_cell` argument and any exception that happen during thetransform in `preprocessing_exc_tuple` in IPython 7.17 and above.\n",
      "  and should_run_async(code)\n"
     ]
    },
    {
     "name": "stdout",
     "output_type": "stream",
     "text": [
      "\n",
      "Number of entries where the answer is not found in the context: 0\n"
     ]
    }
   ],
   "source": [
    "# Function to check if any of the answers appear in the context\n",
    "def answer_in_context(row):\n",
    "    context = row['context']\n",
    "    answers = row['answers']\n",
    "    for answer in answers:\n",
    "        if answer in context:\n",
    "            return True\n",
    "    return False\n",
    "\n",
    "# Apply the function to each row\n",
    "df_possible['answer_in_context'] = df_possible.apply(answer_in_context, axis=1)\n",
    "\n",
    "# Count the number of entries where the answer is not in the context\n",
    "answers_not_in_context = df_possible[~df_possible['answer_in_context']]\n",
    "\n",
    "print(f\"\\nNumber of entries where the answer is not found in the context: {len(answers_not_in_context)}\")\n",
    "\n",
    "if not answers_not_in_context.empty:\n",
    "    print(\"\\nSample of entries where the answer is not in the context:\")\n",
    "    print(answers_not_in_context[['question', 'answers', 'context']].head())"
   ]
  },
  {
   "cell_type": "code",
   "execution_count": 13,
   "metadata": {
    "colab": {
     "base_uri": "https://localhost:8080/"
    },
    "id": "ya7JU3TK7PKZ",
    "outputId": "69fb911d-8166-4f4b-8900-d21675ad7ff5"
   },
   "outputs": [
    {
     "name": "stderr",
     "output_type": "stream",
     "text": [
      "/usr/local/lib/python3.10/dist-packages/ipykernel/ipkernel.py:283: DeprecationWarning: `should_run_async` will not call `transform_cell` automatically in the future. Please pass the result to `transformed_cell` argument and any exception that happen during thetransform in `preprocessing_exc_tuple` in IPython 7.17 and above.\n",
      "  and should_run_async(code)\n"
     ]
    },
    {
     "name": "stdout",
     "output_type": "stream",
     "text": [
      "\n",
      "Question Length Statistics:\n",
      "count    86785.000000\n",
      "mean        10.067811\n",
      "std          3.555463\n",
      "min          1.000000\n",
      "25%          8.000000\n",
      "50%         10.000000\n",
      "75%         12.000000\n",
      "max         40.000000\n",
      "Name: question_length, dtype: float64\n",
      "\n",
      "Context Length Statistics:\n",
      "count    86785.000000\n",
      "mean       119.801371\n",
      "std         49.411322\n",
      "min         20.000000\n",
      "25%         89.000000\n",
      "50%        110.000000\n",
      "75%        142.000000\n",
      "max        653.000000\n",
      "Name: context_length, dtype: float64\n",
      "\n",
      "Number of unusually short questions (<3 words): 4\n",
      "Number of unusually long questions (>99th percentile): 619\n",
      "\n",
      "Sample of unusually short questions:\n",
      "24396    Himachal is?\n",
      "35740              dd\n",
      "35741               d\n",
      "53452     What means \n",
      "Name: question, dtype: object\n",
      "\n",
      "Sample of unusually long questions:\n",
      "137     Who helped Beyoncé earn a Grammy award for Bes...\n",
      "523     In what year was the slang term from a title o...\n",
      "922     Of the individuals that became intimate with F...\n",
      "969     When Chopin started to take his music to the w...\n",
      "1423    A modern commentator, William Atwood, feels Po...\n",
      "Name: question, dtype: object\n"
     ]
    }
   ],
   "source": [
    "# Calculate lengths\n",
    "df_possible['question_length'] = df_possible['question'].apply(lambda x: len(x.split()))\n",
    "df_possible['context_length'] = df_possible['context'].apply(lambda x: len(x.split()))\n",
    "\n",
    "# Describe the lengths\n",
    "print(\"\\nQuestion Length Statistics:\")\n",
    "print(df_possible['question_length'].describe())\n",
    "\n",
    "print(\"\\nContext Length Statistics:\")\n",
    "print(df_possible['context_length'].describe())\n",
    "\n",
    "# Identify unusually long or short questions\n",
    "short_questions = df_possible[df_possible['question_length'] < 3]\n",
    "long_questions = df_possible[df_possible['question_length'] > df_possible['question_length'].quantile(0.99)]\n",
    "\n",
    "print(f\"\\nNumber of unusually short questions (<3 words): {len(short_questions)}\")\n",
    "print(f\"Number of unusually long questions (>99th percentile): {len(long_questions)}\")\n",
    "\n",
    "# Sample of short and long questions\n",
    "if not short_questions.empty:\n",
    "    print(\"\\nSample of unusually short questions:\")\n",
    "    print(short_questions['question'].head())\n",
    "\n",
    "if not long_questions.empty:\n",
    "    print(\"\\nSample of unusually long questions:\")\n",
    "    print(long_questions['question'].head())"
   ]
  },
  {
   "cell_type": "code",
   "execution_count": 14,
   "metadata": {
    "colab": {
     "base_uri": "https://localhost:8080/"
    },
    "id": "ki4uOvt57RpN",
    "outputId": "17fffd50-a374-40db-eae9-2d57d58ba9e6"
   },
   "outputs": [
    {
     "name": "stdout",
     "output_type": "stream",
     "text": [
      "Number of rows before removal: 86785\n",
      "Number of rows after removal: 86781\n"
     ]
    },
    {
     "name": "stderr",
     "output_type": "stream",
     "text": [
      "/usr/local/lib/python3.10/dist-packages/ipykernel/ipkernel.py:283: DeprecationWarning: `should_run_async` will not call `transform_cell` automatically in the future. Please pass the result to `transformed_cell` argument and any exception that happen during thetransform in `preprocessing_exc_tuple` in IPython 7.17 and above.\n",
      "  and should_run_async(code)\n"
     ]
    }
   ],
   "source": [
    "# Count after removal\n",
    "before_count = len(df_possible)\n",
    "print(f\"Number of rows before removal: {before_count}\")\n",
    "\n",
    "# Remove rows where question_length is less than 3\n",
    "df_possible = df_possible[df_possible['question_length'] >= 3].copy()\n",
    "df_possible.reset_index(drop=True, inplace=True)\n",
    "\n",
    "# Count after removal\n",
    "final_count = len(df_possible)\n",
    "print(f\"Number of rows after removal: {final_count}\")"
   ]
  },
  {
   "cell_type": "code",
   "execution_count": 15,
   "metadata": {
    "colab": {
     "base_uri": "https://localhost:8080/"
    },
    "id": "z8ZZVLul7USz",
    "outputId": "63d2aff5-4762-4e9b-d2e5-41862dd4437c"
   },
   "outputs": [
    {
     "name": "stdout",
     "output_type": "stream",
     "text": [
      "Number of entries with exactly four answers: 0\n",
      "Number of entries with less than four answers: 86781\n",
      "Number of entries with more than four answers: 0\n",
      "Number of entries with exactly one answer: 86781\n",
      "\n",
      "Sample entries without exactly four answers:\n",
      "                                            question                answers\n",
      "0           When did Beyonce start becoming popular?    [in the late 1990s]\n",
      "1  What areas did Beyonce compete in when she was...  [singing and dancing]\n",
      "2  When did Beyonce leave Destiny's Child and bec...                 [2003]\n",
      "3      In what city and state did Beyonce  grow up?        [Houston, Texas]\n",
      "4         In which decade did Beyonce become famous?           [late 1990s]\n"
     ]
    },
    {
     "name": "stderr",
     "output_type": "stream",
     "text": [
      "/usr/local/lib/python3.10/dist-packages/ipykernel/ipkernel.py:283: DeprecationWarning: `should_run_async` will not call `transform_cell` automatically in the future. Please pass the result to `transformed_cell` argument and any exception that happen during thetransform in `preprocessing_exc_tuple` in IPython 7.17 and above.\n",
      "  and should_run_async(code)\n"
     ]
    }
   ],
   "source": [
    "# Compute the number of answers\n",
    "df_possible['num_answers'] = df_possible['answers'].apply(len)\n",
    "\n",
    "# Display the counts\n",
    "print(\"Number of entries with exactly four answers:\", len(df_possible[df_possible['num_answers'] == 4]))\n",
    "print(\"Number of entries with less than four answers:\", len(df_possible[df_possible['num_answers'] < 4]))\n",
    "print(\"Number of entries with more than four answers:\", len(df_possible[df_possible['num_answers'] > 4]))\n",
    "print(\"Number of entries with exactly one answer:\", len(df_possible[df_possible['num_answers'] == 1]))\n",
    "\n",
    "# Sample entries with unexpected number of answers\n",
    "not_four_answers = df_possible[df_possible['num_answers'] != 4]\n",
    "if not not_four_answers.empty:\n",
    "    print(\"\\nSample entries without exactly four answers:\")\n",
    "    print(not_four_answers[['question', 'answers']].head())"
   ]
  },
  {
   "cell_type": "code",
   "execution_count": 16,
   "metadata": {
    "colab": {
     "base_uri": "https://localhost:8080/"
    },
    "id": "LPsTt4Um7jZp",
    "outputId": "1c1e0bac-7728-4854-afef-07ab0528b18d"
   },
   "outputs": [
    {
     "name": "stdout",
     "output_type": "stream",
     "text": [
      "\n",
      "Data types of each column:\n",
      "context              object\n",
      "question             object\n",
      "is_impossible          bool\n",
      "answers              object\n",
      "answer_in_context      bool\n",
      "question_length       int64\n",
      "context_length        int64\n",
      "num_answers           int64\n",
      "dtype: object\n",
      "answers\n",
      "<class 'list'>    86781\n",
      "Name: count, dtype: int64\n"
     ]
    },
    {
     "name": "stderr",
     "output_type": "stream",
     "text": [
      "/usr/local/lib/python3.10/dist-packages/ipykernel/ipkernel.py:283: DeprecationWarning: `should_run_async` will not call `transform_cell` automatically in the future. Please pass the result to `transformed_cell` argument and any exception that happen during thetransform in `preprocessing_exc_tuple` in IPython 7.17 and above.\n",
      "  and should_run_async(code)\n"
     ]
    }
   ],
   "source": [
    "# Check data types\n",
    "print(\"\\nData types of each column:\")\n",
    "print(df_possible.dtypes)\n",
    "\n",
    "# Check the data types in the 'answers' column\n",
    "print(df_possible['answers'].apply(type).value_counts())"
   ]
  },
  {
   "cell_type": "code",
   "execution_count": 17,
   "metadata": {
    "colab": {
     "base_uri": "https://localhost:8080/"
    },
    "id": "KgQmrIVk7k5R",
    "outputId": "f80e2eef-d7e4-4555-c741-687255f46827"
   },
   "outputs": [
    {
     "name": "stdout",
     "output_type": "stream",
     "text": [
      "\n",
      "Number of entries with empty 'answers' list: 0\n"
     ]
    },
    {
     "name": "stderr",
     "output_type": "stream",
     "text": [
      "/usr/local/lib/python3.10/dist-packages/ipykernel/ipkernel.py:283: DeprecationWarning: `should_run_async` will not call `transform_cell` automatically in the future. Please pass the result to `transformed_cell` argument and any exception that happen during thetransform in `preprocessing_exc_tuple` in IPython 7.17 and above.\n",
      "  and should_run_async(code)\n"
     ]
    }
   ],
   "source": [
    "# Check for empty answer lists\n",
    "empty_answers = df_possible[df_possible['answers'].apply(lambda x: len(x) == 0)]\n",
    "\n",
    "print(f\"\\nNumber of entries with empty 'answers' list: {len(empty_answers)}\")\n",
    "\n",
    "if not empty_answers.empty:\n",
    "    print(\"\\nSample entries with empty 'answers' list:\")\n",
    "    print(empty_answers[['question', 'answers']].head())"
   ]
  },
  {
   "cell_type": "markdown",
   "metadata": {
    "id": "boN8E4OH5Z1M"
   },
   "source": [
    "### Topic modeling"
   ]
  },
  {
   "cell_type": "code",
   "execution_count": 18,
   "metadata": {
    "colab": {
     "base_uri": "https://localhost:8080/"
    },
    "id": "o-z3K0k5iZtZ",
    "outputId": "4971a888-47fa-4cd7-bf78-3d39867fca0e"
   },
   "outputs": [
    {
     "name": "stderr",
     "output_type": "stream",
     "text": [
      "/usr/local/lib/python3.10/dist-packages/ipykernel/ipkernel.py:283: DeprecationWarning: `should_run_async` will not call `transform_cell` automatically in the future. Please pass the result to `transformed_cell` argument and any exception that happen during thetransform in `preprocessing_exc_tuple` in IPython 7.17 and above.\n",
      "  and should_run_async(code)\n"
     ]
    }
   ],
   "source": [
    "# Load and preprocess data\n",
    "\n",
    "# In case the cleaned file should be read:\n",
    "# df_possible = pd.read_json('squad_train-v2.0_cleaned.json', orient='records', lines=True)\n",
    "\n",
    "unique_contexts = df_possible['context'].unique()\n",
    "\n",
    "# Preprocessing functions\n",
    "stop_words = set(stopwords.words('english'))\n",
    "lemmatizer = WordNetLemmatizer()\n",
    "\n",
    "# Preprocessing context\n",
    "def preprocess_text_initial(text):\n",
    "    text = re.sub(r'\\d+', '', text)\n",
    "    text = re.sub(r'\\s+', ' ', text)\n",
    "    tokens = gensim.utils.simple_preprocess(text, deacc=True)\n",
    "    tokens = [lemmatizer.lemmatize(word) for word in tokens]\n",
    "    return tokens\n",
    "\n",
    "texts_initial = [preprocess_text_initial(context) for context in unique_contexts]\n",
    "all_tokens = [token for text in texts_initial for token in text]\n",
    "token_counts = Counter(all_tokens)\n",
    "most_common_words = [word for word, count in token_counts.most_common(100)]\n",
    "stop_words.update(most_common_words)\n",
    "\n",
    "bigram = Phrases(texts_initial, min_count=3, threshold=50)\n",
    "trigram = Phrases(bigram[texts_initial], min_count=3, threshold=50)\n",
    "bigram_mod = Phraser(bigram)\n",
    "trigram_mod = Phraser(trigram)\n",
    "\n",
    "# Second iteration of preprocessing after bigram/trigram operations\n",
    "def preprocess_text_second(text):\n",
    "    text = re.sub(r'\\d+', '', text)\n",
    "    text = re.sub(r'\\s+', ' ', text)\n",
    "    tokens = gensim.utils.simple_preprocess(text, deacc=True)\n",
    "    tokens = [word for word in tokens if word not in stop_words]\n",
    "    tokens = [lemmatizer.lemmatize(word) for word in tokens]\n",
    "    tokens = bigram_mod[tokens]\n",
    "    tokens = trigram_mod[bigram_mod[tokens]]\n",
    "    return tokens\n",
    "\n",
    "texts = [preprocess_text_second(context) for context in unique_contexts]\n",
    "\n",
    "# Create Dictionary and Corpus\n",
    "dictionary = Dictionary(texts)\n",
    "dictionary.filter_extremes(no_below=10, no_above=0.1)\n",
    "corpus = [dictionary.doc2bow(text) for text in texts]"
   ]
  },
  {
   "cell_type": "code",
   "execution_count": 19,
   "metadata": {
    "colab": {
     "base_uri": "https://localhost:8080/",
     "height": 1000
    },
    "id": "82RzSkDLi9gE",
    "outputId": "6bc6f1f3-3f30-4fd5-e73e-8400be04f691"
   },
   "outputs": [
    {
     "name": "stderr",
     "output_type": "stream",
     "text": [
      "/usr/local/lib/python3.10/dist-packages/ipykernel/ipkernel.py:283: DeprecationWarning: `should_run_async` will not call `transform_cell` automatically in the future. Please pass the result to `transformed_cell` argument and any exception that happen during thetransform in `preprocessing_exc_tuple` in IPython 7.17 and above.\n",
      "  and should_run_async(code)\n",
      "WARNING:gensim.models.hdpmodel:likelihood is decreasing!\n",
      "WARNING:gensim.models.hdpmodel:likelihood is decreasing!\n",
      "WARNING:gensim.models.hdpmodel:likelihood is decreasing!\n",
      "WARNING:gensim.models.hdpmodel:likelihood is decreasing!\n",
      "WARNING:gensim.models.hdpmodel:likelihood is decreasing!\n",
      "WARNING:gensim.models.hdpmodel:likelihood is decreasing!\n",
      "WARNING:gensim.models.hdpmodel:likelihood is decreasing!\n",
      "WARNING:gensim.models.hdpmodel:likelihood is decreasing!\n",
      "WARNING:gensim.models.hdpmodel:likelihood is decreasing!\n",
      "WARNING:gensim.models.hdpmodel:likelihood is decreasing!\n",
      "WARNING:gensim.models.hdpmodel:likelihood is decreasing!\n",
      "WARNING:gensim.models.hdpmodel:likelihood is decreasing!\n",
      "WARNING:gensim.models.hdpmodel:likelihood is decreasing!\n",
      "WARNING:gensim.models.hdpmodel:likelihood is decreasing!\n",
      "WARNING:gensim.models.hdpmodel:likelihood is decreasing!\n",
      "WARNING:gensim.models.hdpmodel:likelihood is decreasing!\n",
      "WARNING:gensim.models.hdpmodel:likelihood is decreasing!\n",
      "WARNING:gensim.models.hdpmodel:likelihood is decreasing!\n",
      "WARNING:gensim.models.hdpmodel:likelihood is decreasing!\n",
      "WARNING:gensim.models.hdpmodel:likelihood is decreasing!\n",
      "WARNING:gensim.models.hdpmodel:likelihood is decreasing!\n",
      "WARNING:gensim.models.hdpmodel:likelihood is decreasing!\n",
      "WARNING:gensim.models.hdpmodel:likelihood is decreasing!\n",
      "WARNING:gensim.models.hdpmodel:likelihood is decreasing!\n",
      "WARNING:gensim.models.hdpmodel:likelihood is decreasing!\n",
      "WARNING:gensim.models.hdpmodel:likelihood is decreasing!\n",
      "WARNING:gensim.models.hdpmodel:likelihood is decreasing!\n",
      "WARNING:gensim.models.hdpmodel:likelihood is decreasing!\n",
      "WARNING:gensim.models.hdpmodel:likelihood is decreasing!\n",
      "WARNING:gensim.models.hdpmodel:likelihood is decreasing!\n",
      "WARNING:gensim.models.hdpmodel:likelihood is decreasing!\n",
      "WARNING:gensim.models.hdpmodel:likelihood is decreasing!\n",
      "WARNING:gensim.models.hdpmodel:likelihood is decreasing!\n",
      "WARNING:gensim.models.hdpmodel:likelihood is decreasing!\n",
      "WARNING:gensim.models.hdpmodel:likelihood is decreasing!\n",
      "WARNING:gensim.models.hdpmodel:likelihood is decreasing!\n",
      "WARNING:gensim.models.hdpmodel:likelihood is decreasing!\n",
      "WARNING:gensim.models.hdpmodel:likelihood is decreasing!\n",
      "WARNING:gensim.models.hdpmodel:likelihood is decreasing!\n",
      "WARNING:gensim.models.hdpmodel:likelihood is decreasing!\n",
      "WARNING:gensim.models.hdpmodel:likelihood is decreasing!\n",
      "WARNING:gensim.models.hdpmodel:likelihood is decreasing!\n",
      "WARNING:gensim.models.hdpmodel:likelihood is decreasing!\n",
      "WARNING:gensim.models.hdpmodel:likelihood is decreasing!\n",
      "WARNING:gensim.models.hdpmodel:likelihood is decreasing!\n",
      "WARNING:gensim.models.hdpmodel:likelihood is decreasing!\n",
      "WARNING:gensim.models.hdpmodel:likelihood is decreasing!\n",
      "WARNING:gensim.models.hdpmodel:likelihood is decreasing!\n",
      "WARNING:gensim.models.hdpmodel:likelihood is decreasing!\n",
      "WARNING:gensim.models.hdpmodel:likelihood is decreasing!\n",
      "WARNING:gensim.models.hdpmodel:likelihood is decreasing!\n",
      "WARNING:gensim.models.hdpmodel:likelihood is decreasing!\n",
      "WARNING:gensim.models.hdpmodel:likelihood is decreasing!\n",
      "WARNING:gensim.models.hdpmodel:likelihood is decreasing!\n",
      "WARNING:gensim.models.hdpmodel:likelihood is decreasing!\n",
      "WARNING:gensim.models.hdpmodel:likelihood is decreasing!\n",
      "WARNING:gensim.models.hdpmodel:likelihood is decreasing!\n",
      "WARNING:gensim.models.hdpmodel:likelihood is decreasing!\n",
      "WARNING:gensim.models.hdpmodel:likelihood is decreasing!\n",
      "WARNING:gensim.models.hdpmodel:likelihood is decreasing!\n",
      "WARNING:gensim.models.hdpmodel:likelihood is decreasing!\n",
      "WARNING:gensim.models.hdpmodel:likelihood is decreasing!\n",
      "WARNING:gensim.models.hdpmodel:likelihood is decreasing!\n",
      "WARNING:gensim.models.hdpmodel:likelihood is decreasing!\n",
      "WARNING:gensim.models.hdpmodel:likelihood is decreasing!\n",
      "WARNING:gensim.models.hdpmodel:likelihood is decreasing!\n",
      "WARNING:gensim.models.hdpmodel:likelihood is decreasing!\n",
      "WARNING:gensim.models.hdpmodel:likelihood is decreasing!\n",
      "WARNING:gensim.models.hdpmodel:likelihood is decreasing!\n",
      "WARNING:gensim.models.hdpmodel:likelihood is decreasing!\n",
      "WARNING:gensim.models.hdpmodel:likelihood is decreasing!\n",
      "WARNING:gensim.models.hdpmodel:likelihood is decreasing!\n",
      "WARNING:gensim.models.hdpmodel:likelihood is decreasing!\n",
      "WARNING:gensim.models.hdpmodel:likelihood is decreasing!\n",
      "WARNING:gensim.models.hdpmodel:likelihood is decreasing!\n",
      "WARNING:gensim.models.hdpmodel:likelihood is decreasing!\n",
      "WARNING:gensim.models.hdpmodel:likelihood is decreasing!\n",
      "WARNING:gensim.models.hdpmodel:likelihood is decreasing!\n",
      "WARNING:gensim.models.hdpmodel:likelihood is decreasing!\n",
      "WARNING:gensim.models.hdpmodel:likelihood is decreasing!\n",
      "WARNING:gensim.models.hdpmodel:likelihood is decreasing!\n",
      "WARNING:gensim.models.hdpmodel:likelihood is decreasing!\n",
      "WARNING:gensim.models.hdpmodel:likelihood is decreasing!\n",
      "WARNING:gensim.models.hdpmodel:likelihood is decreasing!\n",
      "WARNING:gensim.models.hdpmodel:likelihood is decreasing!\n",
      "WARNING:gensim.models.hdpmodel:likelihood is decreasing!\n",
      "WARNING:gensim.models.hdpmodel:likelihood is decreasing!\n",
      "WARNING:gensim.models.hdpmodel:likelihood is decreasing!\n",
      "WARNING:gensim.models.hdpmodel:likelihood is decreasing!\n",
      "WARNING:gensim.models.hdpmodel:likelihood is decreasing!\n",
      "WARNING:gensim.models.hdpmodel:likelihood is decreasing!\n",
      "WARNING:gensim.models.hdpmodel:likelihood is decreasing!\n",
      "WARNING:gensim.models.hdpmodel:likelihood is decreasing!\n",
      "WARNING:gensim.models.hdpmodel:likelihood is decreasing!\n",
      "WARNING:gensim.models.hdpmodel:likelihood is decreasing!\n",
      "WARNING:gensim.models.hdpmodel:likelihood is decreasing!\n",
      "WARNING:gensim.models.hdpmodel:likelihood is decreasing!\n",
      "WARNING:gensim.models.hdpmodel:likelihood is decreasing!\n",
      "WARNING:gensim.models.hdpmodel:likelihood is decreasing!\n",
      "WARNING:gensim.models.hdpmodel:likelihood is decreasing!\n",
      "WARNING:gensim.models.hdpmodel:likelihood is decreasing!\n",
      "WARNING:gensim.models.hdpmodel:likelihood is decreasing!\n",
      "WARNING:gensim.models.hdpmodel:likelihood is decreasing!\n",
      "WARNING:gensim.models.hdpmodel:likelihood is decreasing!\n",
      "WARNING:gensim.models.hdpmodel:likelihood is decreasing!\n",
      "WARNING:gensim.models.hdpmodel:likelihood is decreasing!\n",
      "WARNING:gensim.models.hdpmodel:likelihood is decreasing!\n",
      "WARNING:gensim.models.hdpmodel:likelihood is decreasing!\n",
      "WARNING:gensim.models.hdpmodel:likelihood is decreasing!\n",
      "WARNING:gensim.models.hdpmodel:likelihood is decreasing!\n",
      "WARNING:gensim.models.hdpmodel:likelihood is decreasing!\n",
      "WARNING:gensim.models.hdpmodel:likelihood is decreasing!\n",
      "WARNING:gensim.models.hdpmodel:likelihood is decreasing!\n",
      "WARNING:gensim.models.hdpmodel:likelihood is decreasing!\n",
      "WARNING:gensim.models.hdpmodel:likelihood is decreasing!\n",
      "WARNING:gensim.models.hdpmodel:likelihood is decreasing!\n",
      "WARNING:gensim.models.hdpmodel:likelihood is decreasing!\n",
      "WARNING:gensim.models.hdpmodel:likelihood is decreasing!\n",
      "WARNING:gensim.models.hdpmodel:likelihood is decreasing!\n",
      "WARNING:gensim.models.hdpmodel:likelihood is decreasing!\n",
      "WARNING:gensim.models.hdpmodel:likelihood is decreasing!\n",
      "WARNING:gensim.models.hdpmodel:likelihood is decreasing!\n",
      "WARNING:gensim.models.hdpmodel:likelihood is decreasing!\n",
      "WARNING:gensim.models.hdpmodel:likelihood is decreasing!\n",
      "WARNING:gensim.models.hdpmodel:likelihood is decreasing!\n",
      "WARNING:gensim.models.hdpmodel:likelihood is decreasing!\n",
      "WARNING:gensim.models.hdpmodel:likelihood is decreasing!\n",
      "WARNING:gensim.models.hdpmodel:likelihood is decreasing!\n",
      "WARNING:gensim.models.hdpmodel:likelihood is decreasing!\n",
      "WARNING:gensim.models.hdpmodel:likelihood is decreasing!\n",
      "WARNING:gensim.models.hdpmodel:likelihood is decreasing!\n",
      "WARNING:gensim.models.hdpmodel:likelihood is decreasing!\n",
      "WARNING:gensim.models.hdpmodel:likelihood is decreasing!\n",
      "WARNING:gensim.models.hdpmodel:likelihood is decreasing!\n",
      "WARNING:gensim.models.hdpmodel:likelihood is decreasing!\n",
      "WARNING:gensim.models.hdpmodel:likelihood is decreasing!\n",
      "WARNING:gensim.models.hdpmodel:likelihood is decreasing!\n",
      "WARNING:gensim.models.hdpmodel:likelihood is decreasing!\n",
      "WARNING:gensim.models.hdpmodel:likelihood is decreasing!\n",
      "WARNING:gensim.models.hdpmodel:likelihood is decreasing!\n",
      "WARNING:gensim.models.hdpmodel:likelihood is decreasing!\n",
      "WARNING:gensim.models.hdpmodel:likelihood is decreasing!\n",
      "WARNING:gensim.models.hdpmodel:likelihood is decreasing!\n",
      "WARNING:gensim.models.hdpmodel:likelihood is decreasing!\n",
      "WARNING:gensim.models.hdpmodel:likelihood is decreasing!\n",
      "WARNING:gensim.models.hdpmodel:likelihood is decreasing!\n",
      "WARNING:gensim.models.hdpmodel:likelihood is decreasing!\n",
      "WARNING:gensim.models.hdpmodel:likelihood is decreasing!\n",
      "WARNING:gensim.models.hdpmodel:likelihood is decreasing!\n",
      "WARNING:gensim.models.hdpmodel:likelihood is decreasing!\n",
      "WARNING:gensim.models.hdpmodel:likelihood is decreasing!\n",
      "WARNING:gensim.models.hdpmodel:likelihood is decreasing!\n",
      "WARNING:gensim.models.hdpmodel:likelihood is decreasing!\n",
      "WARNING:gensim.models.hdpmodel:likelihood is decreasing!\n",
      "WARNING:gensim.models.hdpmodel:likelihood is decreasing!\n",
      "WARNING:gensim.models.hdpmodel:likelihood is decreasing!\n",
      "WARNING:gensim.models.hdpmodel:likelihood is decreasing!\n",
      "WARNING:gensim.models.hdpmodel:likelihood is decreasing!\n",
      "WARNING:gensim.models.hdpmodel:likelihood is decreasing!\n",
      "WARNING:gensim.models.hdpmodel:likelihood is decreasing!\n",
      "WARNING:gensim.models.hdpmodel:likelihood is decreasing!\n",
      "WARNING:gensim.models.hdpmodel:likelihood is decreasing!\n",
      "WARNING:gensim.models.hdpmodel:likelihood is decreasing!\n",
      "WARNING:gensim.models.hdpmodel:likelihood is decreasing!\n",
      "WARNING:gensim.models.hdpmodel:likelihood is decreasing!\n",
      "WARNING:gensim.models.hdpmodel:likelihood is decreasing!\n",
      "WARNING:gensim.models.hdpmodel:likelihood is decreasing!\n",
      "WARNING:gensim.models.hdpmodel:likelihood is decreasing!\n",
      "WARNING:gensim.models.hdpmodel:likelihood is decreasing!\n",
      "WARNING:gensim.models.hdpmodel:likelihood is decreasing!\n",
      "WARNING:gensim.models.hdpmodel:likelihood is decreasing!\n",
      "WARNING:gensim.models.hdpmodel:likelihood is decreasing!\n",
      "WARNING:gensim.models.hdpmodel:likelihood is decreasing!\n",
      "WARNING:gensim.models.hdpmodel:likelihood is decreasing!\n",
      "WARNING:gensim.models.hdpmodel:likelihood is decreasing!\n",
      "WARNING:gensim.models.hdpmodel:likelihood is decreasing!\n",
      "WARNING:gensim.models.hdpmodel:likelihood is decreasing!\n",
      "WARNING:gensim.models.hdpmodel:likelihood is decreasing!\n",
      "WARNING:gensim.models.hdpmodel:likelihood is decreasing!\n",
      "WARNING:gensim.models.hdpmodel:likelihood is decreasing!\n",
      "WARNING:gensim.models.hdpmodel:likelihood is decreasing!\n",
      "WARNING:gensim.models.hdpmodel:likelihood is decreasing!\n",
      "WARNING:gensim.models.hdpmodel:likelihood is decreasing!\n",
      "WARNING:gensim.models.hdpmodel:likelihood is decreasing!\n",
      "WARNING:gensim.models.hdpmodel:likelihood is decreasing!\n",
      "WARNING:gensim.models.hdpmodel:likelihood is decreasing!\n",
      "WARNING:gensim.models.hdpmodel:likelihood is decreasing!\n",
      "WARNING:gensim.models.hdpmodel:likelihood is decreasing!\n",
      "WARNING:gensim.models.hdpmodel:likelihood is decreasing!\n",
      "WARNING:gensim.models.hdpmodel:likelihood is decreasing!\n",
      "WARNING:gensim.models.hdpmodel:likelihood is decreasing!\n",
      "WARNING:gensim.models.hdpmodel:likelihood is decreasing!\n",
      "WARNING:gensim.models.hdpmodel:likelihood is decreasing!\n",
      "WARNING:gensim.models.hdpmodel:likelihood is decreasing!\n",
      "WARNING:gensim.models.hdpmodel:likelihood is decreasing!\n",
      "WARNING:gensim.models.hdpmodel:likelihood is decreasing!\n",
      "WARNING:gensim.models.hdpmodel:likelihood is decreasing!\n",
      "WARNING:gensim.models.hdpmodel:likelihood is decreasing!\n",
      "WARNING:gensim.models.hdpmodel:likelihood is decreasing!\n",
      "WARNING:gensim.models.hdpmodel:likelihood is decreasing!\n",
      "WARNING:gensim.models.hdpmodel:likelihood is decreasing!\n",
      "WARNING:gensim.models.hdpmodel:likelihood is decreasing!\n",
      "WARNING:gensim.models.hdpmodel:likelihood is decreasing!\n",
      "WARNING:gensim.models.hdpmodel:likelihood is decreasing!\n",
      "WARNING:gensim.models.hdpmodel:likelihood is decreasing!\n",
      "WARNING:gensim.models.hdpmodel:likelihood is decreasing!\n",
      "WARNING:gensim.models.hdpmodel:likelihood is decreasing!\n",
      "WARNING:gensim.models.hdpmodel:likelihood is decreasing!\n",
      "WARNING:gensim.models.hdpmodel:likelihood is decreasing!\n",
      "WARNING:gensim.models.hdpmodel:likelihood is decreasing!\n",
      "WARNING:gensim.models.hdpmodel:likelihood is decreasing!\n",
      "WARNING:gensim.models.hdpmodel:likelihood is decreasing!\n",
      "WARNING:gensim.models.hdpmodel:likelihood is decreasing!\n",
      "WARNING:gensim.models.hdpmodel:likelihood is decreasing!\n",
      "WARNING:gensim.models.hdpmodel:likelihood is decreasing!\n",
      "WARNING:gensim.models.hdpmodel:likelihood is decreasing!\n",
      "WARNING:gensim.models.hdpmodel:likelihood is decreasing!\n",
      "WARNING:gensim.models.hdpmodel:likelihood is decreasing!\n",
      "WARNING:gensim.models.hdpmodel:likelihood is decreasing!\n",
      "WARNING:gensim.models.hdpmodel:likelihood is decreasing!\n",
      "WARNING:gensim.models.hdpmodel:likelihood is decreasing!\n",
      "WARNING:gensim.models.hdpmodel:likelihood is decreasing!\n",
      "WARNING:gensim.models.hdpmodel:likelihood is decreasing!\n",
      "WARNING:gensim.models.hdpmodel:likelihood is decreasing!\n",
      "WARNING:gensim.models.hdpmodel:likelihood is decreasing!\n",
      "WARNING:gensim.models.hdpmodel:likelihood is decreasing!\n",
      "WARNING:gensim.models.hdpmodel:likelihood is decreasing!\n",
      "WARNING:gensim.models.hdpmodel:likelihood is decreasing!\n",
      "WARNING:gensim.models.hdpmodel:likelihood is decreasing!\n",
      "WARNING:gensim.models.hdpmodel:likelihood is decreasing!\n",
      "WARNING:gensim.models.hdpmodel:likelihood is decreasing!\n",
      "WARNING:gensim.models.hdpmodel:likelihood is decreasing!\n",
      "WARNING:gensim.models.hdpmodel:likelihood is decreasing!\n",
      "WARNING:gensim.models.hdpmodel:likelihood is decreasing!\n",
      "WARNING:gensim.models.hdpmodel:likelihood is decreasing!\n",
      "WARNING:gensim.models.hdpmodel:likelihood is decreasing!\n",
      "WARNING:gensim.models.hdpmodel:likelihood is decreasing!\n",
      "WARNING:gensim.models.hdpmodel:likelihood is decreasing!\n",
      "WARNING:gensim.models.hdpmodel:likelihood is decreasing!\n",
      "WARNING:gensim.models.hdpmodel:likelihood is decreasing!\n",
      "WARNING:gensim.models.hdpmodel:likelihood is decreasing!\n",
      "WARNING:gensim.models.hdpmodel:likelihood is decreasing!\n",
      "WARNING:gensim.models.hdpmodel:likelihood is decreasing!\n",
      "WARNING:gensim.models.hdpmodel:likelihood is decreasing!\n",
      "WARNING:gensim.models.hdpmodel:likelihood is decreasing!\n",
      "WARNING:gensim.models.hdpmodel:likelihood is decreasing!\n",
      "WARNING:gensim.models.hdpmodel:likelihood is decreasing!\n",
      "WARNING:gensim.models.hdpmodel:likelihood is decreasing!\n"
     ]
    },
    {
     "name": "stdout",
     "output_type": "stream",
     "text": [
      "\n",
      "HDP Topics:\n",
      "Topic #0:\n",
      "['year', 'made', 'company', 'three', 'major', 'national', 'work', 'day', 'several', 'often', 'large', 'period', 'home', 'based', 'service', 'include', 'largest', 'high', 'british', 'million']\n",
      "Topic #1:\n",
      "['greek', 'church', 'work', 'law', 'god', 'year', 'political', 'religious', 'period', 'made', 'culture', 'study', 'led', 'although', 'modern', 'often', 'member', 'term', 'example', 'day']\n",
      "Topic #2:\n",
      "['law', 'often', 'example', 'work', 'character', 'made', 'case', 'although', 'based', 'human', 'standard', 'could', 'like', 'term', 'common', 'different', 'high', 'word', 'modern', 'process']\n",
      "Topic #3:\n",
      "['three', 'year', 'club', 'team', 'made', 'season', 'led', 'day', 'army', 'game', 'major', 'french', 'british', 'force', 'several', 'could', 'end', 'although', 'second', 'france']\n",
      "Topic #4:\n",
      "['force', 'army', 'french', 'led', 'military', 'year', 'made', 'british', 'political', 'although', 'law', 'battle', 'german', 'day', 'france', 'several', 'three', 'often', 'could', 'roman']\n",
      "Topic #5:\n",
      "['island', 'west', 'north', 'region', 'south', 'day', 'east', 'major', 'force', 'largest', 'several', 'year', 'land', 'river', 'national', 'include', 'high', 'western', 'made', 'army']\n",
      "Topic #6:\n",
      "['although', 'german', 'often', 'term', 'day', 'made', 'around', 'year', 'several', 'dialect', 'period', 'west', 'three', 'national', 'modern', 'military', 'within', 'major', 'russian', 'still']\n",
      "Topic #7:\n",
      "['often', 'national', 'term', 'million', 'work', 'made', 'plant', 'year', 'major', 'several', 'found', 'could', 'although', 'law', 'high', 'area', 'based', 'example', 'include', 'human']\n",
      "Topic #8:\n",
      "['plant', 'bacteria', 'gene', 'god', 'dog', 'made', 'like', 'although', 'often', 'led', 'year', 'example', 'term', 'name', 'day', 'land', 'within', 'modern', 'large', 'army']\n",
      "Topic #9:\n",
      "['game', 'schwarzenegger', 'gene', 'film', 'made', 'white', 'year', 'order', 'different', 'work', 'cub', 'series', 'team', 'million', 'led', 'example', 'three', 'german', 'person', 'day']\n",
      "Topic #10:\n",
      "['west', 'example', 'term', 'company', 'show', 'often', 'black', 'law', 'like', 'based', 'work', 'name', 'word', 'according', 'common', 'national', 'search', 'level', 'made', 'within']\n",
      "Topic #11:\n",
      "['paper', 'schwarzenegger', 'film', 'million', 'made', 'work', 'president', 'seriously', 'international', 'information', 'beyonce', 'charleston', 'orange', 'season', 'music', 'montini', 'political', 'grow', 'dictated', 'found']\n",
      "Topic #12:\n",
      "['park', 'name', 'york', 'national', 'result', 'endangered', 'schwarzenegger', 'tuvalu', 'three', 'day', 'central', 'island', 'nation', 'meadow', 'hired', 'major', 'montevideo', 'western', 'catalan', 'made']\n",
      "Topic #13:\n",
      "['west', 'dollar', 'game', 'among', 'scholar', 'region', 'could', 'federal_reserve', 'like', 'common', 'lancaster', 'apple', 'chicago', 'english', 'link', 'water', 'high', 'period', 'year', 'long']\n",
      "Topic #14:\n",
      "['title', 'oklahoma', 'west', 'china', 'special', 'manga', 'generally', 'released', 'music', 'assumes', 'north', 'sent', 'rsfsr', 'sacred', 'four', 'leave', 'said', 'three', 'pepper', 'claimed']\n",
      "Topic #15:\n",
      "['west', 'york', 'law', 'factory', 'socially', 'german', 'video', 'home', 'dialect', 'phd', 'artistic', 'forty', 'manufacturing', 'upon', 'boston', 'returned', 'agrees', 'measurable', 'study', 'within']\n",
      "Topic #16:\n",
      "['debate', 'national', 'development', 'three', 'attachment', 'several', 'establish', 'june', 'list', 'nation', 'lead', 'following', 'march', 'due', 'atheist', 'grain', 'west', 'bubble', 'molotov', 'color']\n",
      "Topic #17:\n",
      "['federal_reserve', 'example', 'note', 'record', 'representation', 'others', 'coin', 'york', 'anywhere', 'turmoil', 'moved', 'chemistry', 'walter', 'retreat', 'publicized', 'copper', 'country', 'necessary', 'center', 'dollar']\n",
      "Topic #18:\n",
      "['chinese', 'french', 'china', 'student', 'naval', 'national', 'chopin', 'generally', 'republic', 'earthquake', 'oppressive', 'attend', 'unicameral', 'congo', 'bolshevik', 'beijing', 'completion', 'name', 'elevator', 'school']\n",
      "Topic #19:\n",
      "['apollo', 'outside', 'name', 'advertiser', 'music', 'head', 'ownership', 'even', 'official', 'artist', 'korean', 'charlotte', 'reached', 'company', 'wireless', 'herman', 'engineer', 'cut', 'west', 'floor']\n",
      "\n",
      "HDP Model Coherence Score: 0.6235\n"
     ]
    },
    {
     "data": {
      "image/png": "[encoded data removed]",
      "text/plain": [
       "<Figure size 1000x700 with 1 Axes>"
      ]
     },
     "metadata": {},
     "output_type": "display_data"
    }
   ],
   "source": [
    "# ---------------- HDP Modeling ----------------\n",
    "hdp_model = HdpModel(corpus=corpus, id2word=dictionary)\n",
    "hdp_topics = hdp_model.show_topics(formatted=False)\n",
    "\n",
    "print(\"\\nHDP Topics:\")\n",
    "for idx, topic in enumerate(hdp_topics):\n",
    "    print(f\"Topic #{idx}:\")\n",
    "    print([word for word, prob in topic[1]])\n",
    "\n",
    "# Compute HDP Coherence Score\n",
    "coherence_model_hdp = CoherenceModel(model=hdp_model, texts=texts, dictionary=dictionary, coherence='c_v')\n",
    "coherence_score_hdp = coherence_model_hdp.get_coherence()\n",
    "print(f\"\\nHDP Model Coherence Score: {coherence_score_hdp:.4f}\")\n",
    "\n",
    "# Assign HDP Topics to Contexts\n",
    "def get_dominant_topic_hdp(hdp_model, bow):\n",
    "    topic_dist = hdp_model[bow]\n",
    "    dominant_topic = max(topic_dist, key=lambda x: x[1])[0]\n",
    "    return dominant_topic\n",
    "\n",
    "context_to_topic_hdp = {}\n",
    "for context, bow in zip(unique_contexts, corpus):\n",
    "    dominant_topic = get_dominant_topic_hdp(hdp_model, bow)\n",
    "    context_to_topic_hdp[context] = dominant_topic\n",
    "\n",
    "df_possible['topic_hdp'] = df_possible['context'].map(context_to_topic_hdp)\n",
    "\n",
    "# Hierarchical Clustering for HDP Topics\n",
    "hdp_topic_word_distributions = hdp_model.get_topics()\n",
    "similarity_matrix_hdp = cosine_similarity(hdp_topic_word_distributions)\n",
    "distance_matrix_hdp = 1 - similarity_matrix_hdp\n",
    "linked_hdp = linkage(distance_matrix_hdp, 'ward')\n",
    "\n",
    "plt.figure(figsize=(10, 7))\n",
    "dendrogram(linked_hdp, orientation='top', distance_sort='descending', show_leaf_counts=True)\n",
    "plt.title('Hierarchical Clustering Dendrogram of HDP Topics in SQuAD Dataset')\n",
    "plt.xlabel('Topic Index')\n",
    "plt.ylabel('Distance')\n",
    "plt.show()"
   ]
  },
  {
   "cell_type": "code",
   "execution_count": 20,
   "metadata": {
    "colab": {
     "base_uri": "https://localhost:8080/"
    },
    "id": "JBNzUaNVlDLl",
    "outputId": "f452459c-bcc4-48ac-f2d2-8638cbb21ea8"
   },
   "outputs": [
    {
     "name": "stderr",
     "output_type": "stream",
     "text": [
      "/usr/local/lib/python3.10/dist-packages/ipykernel/ipkernel.py:283: DeprecationWarning: `should_run_async` will not call `transform_cell` automatically in the future. Please pass the result to `transformed_cell` argument and any exception that happen during thetransform in `preprocessing_exc_tuple` in IPython 7.17 and above.\n",
      "  and should_run_async(code)\n"
     ]
    }
   ],
   "source": [
    "# Assign topic information to dataset\n",
    "num_clusters_hdp = 6  # Adjusted based on dendrogram\n",
    "cluster_labels_hdp = fcluster(linked_hdp, num_clusters_hdp, criterion='maxclust')\n",
    "topic_to_category_hdp = {topic_idx: cluster_label for topic_idx, cluster_label in enumerate(cluster_labels_hdp)}\n",
    "df_possible['category_hdp'] = df_possible['topic_hdp'].map(topic_to_category_hdp)"
   ]
  },
  {
   "cell_type": "code",
   "execution_count": 21,
   "metadata": {
    "colab": {
     "base_uri": "https://localhost:8080/",
     "height": 805
    },
    "id": "AWd83pejkjOs",
    "outputId": "004097f6-844c-4f1d-9ccd-51731e08b526"
   },
   "outputs": [
    {
     "name": "stderr",
     "output_type": "stream",
     "text": [
      "/usr/local/lib/python3.10/dist-packages/ipykernel/ipkernel.py:283: DeprecationWarning: `should_run_async` will not call `transform_cell` automatically in the future. Please pass the result to `transformed_cell` argument and any exception that happen during thetransform in `preprocessing_exc_tuple` in IPython 7.17 and above.\n",
      "  and should_run_async(code)\n"
     ]
    },
    {
     "name": "stdout",
     "output_type": "stream",
     "text": [
      "Number of Topics: 2, Coherence Score: 0.2844\n",
      "Number of Topics: 4, Coherence Score: 0.3778\n",
      "Number of Topics: 6, Coherence Score: 0.3322\n",
      "Number of Topics: 8, Coherence Score: 0.3410\n",
      "Number of Topics: 10, Coherence Score: 0.3022\n",
      "Number of Topics: 12, Coherence Score: 0.2807\n",
      "Number of Topics: 14, Coherence Score: 0.2578\n",
      "Number of Topics: 16, Coherence Score: 0.2483\n"
     ]
    },
    {
     "data": {
      "image/png": "[encoded data removed]",
      "text/plain": [
       "<Figure size 1000x600 with 1 Axes>"
      ]
     },
     "metadata": {},
     "output_type": "display_data"
    },
    {
     "name": "stdout",
     "output_type": "stream",
     "text": [
      "\n",
      "Optimal Number of Topics for LDA: 4\n"
     ]
    }
   ],
   "source": [
    "# ---------------- LDA Modeling ----------------\n",
    "# Find Optimal Number of Topics\n",
    "min_topics = 2\n",
    "max_topics = 16\n",
    "step = 2\n",
    "coherence_scores = []\n",
    "\n",
    "for num_topics in range(min_topics, max_topics + 1, step):\n",
    "    lda_model_temp = LdaModel(\n",
    "        corpus=corpus,\n",
    "        id2word=dictionary,\n",
    "        num_topics=num_topics,\n",
    "        random_state=100,\n",
    "        update_every=1,\n",
    "        chunksize=100,\n",
    "        passes=10,\n",
    "        alpha='auto',\n",
    "        per_word_topics=True\n",
    "    )\n",
    "    coherence_model = CoherenceModel(model=lda_model_temp, texts=texts, dictionary=dictionary, coherence='c_v')\n",
    "    coherence_score = coherence_model.get_coherence()\n",
    "    coherence_scores.append(coherence_score)\n",
    "    print(f'Number of Topics: {num_topics}, Coherence Score: {coherence_score:.4f}')\n",
    "\n",
    "# Plot Coherence Scores\n",
    "plt.figure(figsize=(10,6))\n",
    "plt.plot(range(min_topics, max_topics + 1, step), coherence_scores, marker='o')\n",
    "plt.title('Coherence Scores by Number of Topics (LDA)')\n",
    "plt.xlabel('Number of Topics')\n",
    "plt.ylabel('Coherence Score')\n",
    "plt.xticks(range(min_topics, max_topics + 1, step))\n",
    "plt.grid(True)\n",
    "plt.show()\n",
    "\n",
    "# Calculate the index of the maximum coherence score\n",
    "max_index = coherence_scores.index(max(coherence_scores))\n",
    "num_topics_optimal = min_topics + max_index * step\n",
    "\n",
    "print(f'\\nOptimal Number of Topics for LDA: {num_topics_optimal}')"
   ]
  },
  {
   "cell_type": "code",
   "execution_count": 22,
   "metadata": {
    "colab": {
     "base_uri": "https://localhost:8080/"
    },
    "id": "XjuHLxcpVbjR",
    "outputId": "466eadcd-e665-4b09-b1be-00b92aee5e6d"
   },
   "outputs": [
    {
     "name": "stderr",
     "output_type": "stream",
     "text": [
      "/usr/local/lib/python3.10/dist-packages/ipykernel/ipkernel.py:283: DeprecationWarning: `should_run_async` will not call `transform_cell` automatically in the future. Please pass the result to `transformed_cell` argument and any exception that happen during thetransform in `preprocessing_exc_tuple` in IPython 7.17 and above.\n",
      "  and should_run_async(code)\n"
     ]
    },
    {
     "name": "stdout",
     "output_type": "stream",
     "text": [
      "\n",
      "LDA Topics:\n",
      "Topic #0:\n",
      "['church', 'religious', 'political', 'culture', 'portugal', 'military', 'god', 'portuguese', 'roman', 'religion']\n",
      "Topic #1:\n",
      "['specie', 'example', 'human', 'often', 'red', 'bird', 'animal', 'color', 'different', 'made']\n",
      "Topic #2:\n",
      "['eisenhower', 'service', 'public', 'study', 'development', 'international', 'program', 'police', 'president', 'student']\n",
      "Topic #3:\n",
      "['richmond', 'hunting', 'building', 'montana', 'house', 'island', 'north', 'largest', 'home', 'art']\n",
      "\n",
      "LDA Model Coherence Score: 0.3778\n"
     ]
    }
   ],
   "source": [
    "# Train Final LDA Model\n",
    "lda_model = LdaModel(\n",
    "    corpus=corpus,\n",
    "    id2word=dictionary,\n",
    "    num_topics=num_topics_optimal,\n",
    "    random_state=100,\n",
    "    update_every=1,\n",
    "    chunksize=100,\n",
    "    passes=10,\n",
    "    alpha='auto',\n",
    "    per_word_topics=True\n",
    ")\n",
    "\n",
    "# Extract LDA Topics\n",
    "lda_topics = lda_model.show_topics(formatted=False, num_words=10)\n",
    "\n",
    "print(\"\\nLDA Topics:\")\n",
    "for idx, topic in lda_topics:\n",
    "    print(f\"Topic #{idx}:\")\n",
    "    print([word for word, prob in topic])\n",
    "\n",
    "# Compute LDA Coherence Score\n",
    "coherence_model_lda = CoherenceModel(model=lda_model, texts=texts, dictionary=dictionary, coherence='c_v')\n",
    "coherence_score_lda = coherence_model_lda.get_coherence()\n",
    "print(f\"\\nLDA Model Coherence Score: {coherence_score_lda:.4f}\")\n",
    "\n",
    "# Assign LDA Topics to Contexts\n",
    "def get_dominant_topic_lda(lda_model, bow):\n",
    "    topic_dist = lda_model.get_document_topics(bow)\n",
    "    if topic_dist:\n",
    "        dominant_topic = max(topic_dist, key=lambda x: x[1])[0]\n",
    "    else:\n",
    "        dominant_topic = -1\n",
    "    return dominant_topic\n",
    "\n",
    "# Assign dominant topic for dataset enrichment\n",
    "context_to_topic_lda = {}\n",
    "for context, bow in zip(unique_contexts, corpus):\n",
    "    dominant_topic = get_dominant_topic_lda(lda_model, bow)\n",
    "    context_to_topic_lda[context] = dominant_topic\n",
    "\n",
    "# Enrich dataset\n",
    "df_possible['topic_lda'] = df_possible['context'].map(context_to_topic_lda)"
   ]
  },
  {
   "cell_type": "code",
   "execution_count": 23,
   "metadata": {
    "colab": {
     "base_uri": "https://localhost:8080/",
     "height": 702
    },
    "id": "HZY9QPcuknLR",
    "outputId": "bafff69a-2b3d-44ba-c254-79816c6faa25"
   },
   "outputs": [
    {
     "name": "stderr",
     "output_type": "stream",
     "text": [
      "/usr/local/lib/python3.10/dist-packages/ipykernel/ipkernel.py:283: DeprecationWarning: `should_run_async` will not call `transform_cell` automatically in the future. Please pass the result to `transformed_cell` argument and any exception that happen during thetransform in `preprocessing_exc_tuple` in IPython 7.17 and above.\n",
      "  and should_run_async(code)\n"
     ]
    },
    {
     "data": {
      "image/png": "[encoded data removed]",
      "text/plain": [
       "<Figure size 1000x700 with 1 Axes>"
      ]
     },
     "metadata": {},
     "output_type": "display_data"
    }
   ],
   "source": [
    "# Hierarchical Clustering for LDA Topics\n",
    "lda_topic_word_distributions = lda_model.get_topics()\n",
    "similarity_matrix_lda = cosine_similarity(lda_topic_word_distributions)\n",
    "distance_matrix_lda = 1 - similarity_matrix_lda\n",
    "linked_lda = linkage(distance_matrix_lda, 'ward')\n",
    "\n",
    "plt.figure(figsize=(10, 7))\n",
    "dendrogram(linked_lda, orientation='top', distance_sort='descending', show_leaf_counts=True)\n",
    "plt.title('Hierarchical Clustering Dendrogram of LDA Topics in SQuAD Dataset')\n",
    "plt.xlabel('Topic Index')\n",
    "plt.ylabel('Distance')\n",
    "plt.show()"
   ]
  },
  {
   "cell_type": "code",
   "execution_count": 24,
   "metadata": {
    "colab": {
     "base_uri": "https://localhost:8080/"
    },
    "id": "C_e4WRt6oa7y",
    "outputId": "0721402c-5615-412d-b652-947098317a5b"
   },
   "outputs": [
    {
     "name": "stderr",
     "output_type": "stream",
     "text": [
      "/usr/local/lib/python3.10/dist-packages/ipykernel/ipkernel.py:283: DeprecationWarning: `should_run_async` will not call `transform_cell` automatically in the future. Please pass the result to `transformed_cell` argument and any exception that happen during thetransform in `preprocessing_exc_tuple` in IPython 7.17 and above.\n",
      "  and should_run_async(code)\n"
     ]
    }
   ],
   "source": [
    "num_clusters_lda = 4  # Adjusted based on dendrogram\n",
    "cluster_labels_lda = fcluster(linked_lda, num_clusters_lda, criterion='maxclust')\n",
    "topic_to_category_lda = {topic_idx: cluster_label for topic_idx, cluster_label in enumerate(cluster_labels_lda)}\n",
    "df_possible['category_lda'] = df_possible['topic_lda'].map(topic_to_category_lda)"
   ]
  },
  {
   "cell_type": "code",
   "execution_count": 25,
   "metadata": {
    "colab": {
     "base_uri": "https://localhost:8080/"
    },
    "id": "usxAcqodkosQ",
    "outputId": "82f43deb-d4f6-4b2c-aad5-74915bcad74b"
   },
   "outputs": [
    {
     "name": "stderr",
     "output_type": "stream",
     "text": [
      "/usr/local/lib/python3.10/dist-packages/ipykernel/ipkernel.py:283: DeprecationWarning: `should_run_async` will not call `transform_cell` automatically in the future. Please pass the result to `transformed_cell` argument and any exception that happen during thetransform in `preprocessing_exc_tuple` in IPython 7.17 and above.\n",
      "  and should_run_async(code)\n"
     ]
    },
    {
     "name": "stdout",
     "output_type": "stream",
     "text": [
      "\n",
      "HDP Model Coherence Score: 0.6235\n",
      "LDA Model Coherence Score: 0.3778\n",
      "LDA intertopic distance map saved as 'lda_squad_intertopic_distance.html'\n",
      "HDP intertopic distance map saved as 'hdp_squad_intertopic_distance.html'\n",
      "\n",
      "HDP Topics:\n",
      "Topic #0:\n",
      "['year', 'made', 'company', 'three', 'major', 'national', 'work', 'day', 'several', 'often', 'large', 'period', 'home', 'based', 'service', 'include', 'largest', 'high', 'british', 'million']\n",
      "Topic #1:\n",
      "['greek', 'church', 'work', 'law', 'god', 'year', 'political', 'religious', 'period', 'made', 'culture', 'study', 'led', 'although', 'modern', 'often', 'member', 'term', 'example', 'day']\n",
      "Topic #2:\n",
      "['law', 'often', 'example', 'work', 'character', 'made', 'case', 'although', 'based', 'human', 'standard', 'could', 'like', 'term', 'common', 'different', 'high', 'word', 'modern', 'process']\n",
      "Topic #3:\n",
      "['three', 'year', 'club', 'team', 'made', 'season', 'led', 'day', 'army', 'game', 'major', 'french', 'british', 'force', 'several', 'could', 'end', 'although', 'second', 'france']\n",
      "Topic #4:\n",
      "['force', 'army', 'french', 'led', 'military', 'year', 'made', 'british', 'political', 'although', 'law', 'battle', 'german', 'day', 'france', 'several', 'three', 'often', 'could', 'roman']\n",
      "Topic #5:\n",
      "['island', 'west', 'north', 'region', 'south', 'day', 'east', 'major', 'force', 'largest', 'several', 'year', 'land', 'river', 'national', 'include', 'high', 'western', 'made', 'army']\n",
      "Topic #6:\n",
      "['although', 'german', 'often', 'term', 'day', 'made', 'around', 'year', 'several', 'dialect', 'period', 'west', 'three', 'national', 'modern', 'military', 'within', 'major', 'russian', 'still']\n",
      "Topic #7:\n",
      "['often', 'national', 'term', 'million', 'work', 'made', 'plant', 'year', 'major', 'several', 'found', 'could', 'although', 'law', 'high', 'area', 'based', 'example', 'include', 'human']\n",
      "Topic #8:\n",
      "['plant', 'bacteria', 'gene', 'god', 'dog', 'made', 'like', 'although', 'often', 'led', 'year', 'example', 'term', 'name', 'day', 'land', 'within', 'modern', 'large', 'army']\n",
      "Topic #9:\n",
      "['game', 'schwarzenegger', 'gene', 'film', 'made', 'white', 'year', 'order', 'different', 'work', 'cub', 'series', 'team', 'million', 'led', 'example', 'three', 'german', 'person', 'day']\n",
      "Topic #10:\n",
      "['west', 'example', 'term', 'company', 'show', 'often', 'black', 'law', 'like', 'based', 'work', 'name', 'word', 'according', 'common', 'national', 'search', 'level', 'made', 'within']\n",
      "Topic #11:\n",
      "['paper', 'schwarzenegger', 'film', 'million', 'made', 'work', 'president', 'seriously', 'international', 'information', 'beyonce', 'charleston', 'orange', 'season', 'music', 'montini', 'political', 'grow', 'dictated', 'found']\n",
      "Topic #12:\n",
      "['park', 'name', 'york', 'national', 'result', 'endangered', 'schwarzenegger', 'tuvalu', 'three', 'day', 'central', 'island', 'nation', 'meadow', 'hired', 'major', 'montevideo', 'western', 'catalan', 'made']\n",
      "Topic #13:\n",
      "['west', 'dollar', 'game', 'among', 'scholar', 'region', 'could', 'federal_reserve', 'like', 'common', 'lancaster', 'apple', 'chicago', 'english', 'link', 'water', 'high', 'period', 'year', 'long']\n",
      "Topic #14:\n",
      "['title', 'oklahoma', 'west', 'china', 'special', 'manga', 'generally', 'released', 'music', 'assumes', 'north', 'sent', 'rsfsr', 'sacred', 'four', 'leave', 'said', 'three', 'pepper', 'claimed']\n",
      "Topic #15:\n",
      "['west', 'york', 'law', 'factory', 'socially', 'german', 'video', 'home', 'dialect', 'phd', 'artistic', 'forty', 'manufacturing', 'upon', 'boston', 'returned', 'agrees', 'measurable', 'study', 'within']\n",
      "Topic #16:\n",
      "['debate', 'national', 'development', 'three', 'attachment', 'several', 'establish', 'june', 'list', 'nation', 'lead', 'following', 'march', 'due', 'atheist', 'grain', 'west', 'bubble', 'molotov', 'color']\n",
      "Topic #17:\n",
      "['federal_reserve', 'example', 'note', 'record', 'representation', 'others', 'coin', 'york', 'anywhere', 'turmoil', 'moved', 'chemistry', 'walter', 'retreat', 'publicized', 'copper', 'country', 'necessary', 'center', 'dollar']\n",
      "Topic #18:\n",
      "['chinese', 'french', 'china', 'student', 'naval', 'national', 'chopin', 'generally', 'republic', 'earthquake', 'oppressive', 'attend', 'unicameral', 'congo', 'bolshevik', 'beijing', 'completion', 'name', 'elevator', 'school']\n",
      "Topic #19:\n",
      "['apollo', 'outside', 'name', 'advertiser', 'music', 'head', 'ownership', 'even', 'official', 'artist', 'korean', 'charlotte', 'reached', 'company', 'wireless', 'herman', 'engineer', 'cut', 'west', 'floor']\n",
      "\n",
      "LDA Topics:\n",
      "Topic #0:\n",
      "['church', 'religious', 'political', 'culture', 'portugal', 'military', 'god', 'portuguese', 'roman', 'religion']\n",
      "Topic #1:\n",
      "['specie', 'example', 'human', 'often', 'red', 'bird', 'animal', 'color', 'different', 'made']\n",
      "Topic #2:\n",
      "['eisenhower', 'service', 'public', 'study', 'development', 'international', 'program', 'police', 'president', 'student']\n",
      "Topic #3:\n",
      "['richmond', 'hunting', 'building', 'montana', 'house', 'island', 'north', 'largest', 'home', 'art']\n"
     ]
    }
   ],
   "source": [
    "# ---------------- Comparison ----------------\n",
    "# Quantitative Comparison\n",
    "print(f\"\\nHDP Model Coherence Score: {coherence_score_hdp:.4f}\")\n",
    "print(f\"LDA Model Coherence Score: {coherence_score_lda:.4f}\")\n",
    "\n",
    "# Qualitative Comparison using pyLDAvis\n",
    "# LDA Visualization\n",
    "lda_vis = gensimvis.prepare(lda_model, corpus, dictionary)\n",
    "pyLDAvis.save_html(lda_vis, 'lda_squad_intertopic_distance.html')\n",
    "print(\"LDA intertopic distance map saved as 'lda_squad_intertopic_distance.html'\")\n",
    "\n",
    "# HDP Visualization\n",
    "hdp_vis = gensimvis.prepare(hdp_model, corpus, dictionary)\n",
    "pyLDAvis.save_html(hdp_vis, 'hdp_squad_intertopic_distance.html')\n",
    "print(\"HDP intertopic distance map saved as 'hdp_squad_intertopic_distance.html'\")\n",
    "\n",
    "# Display top words for both models\n",
    "print(\"\\nHDP Topics:\")\n",
    "for idx, topic in enumerate(hdp_topics):\n",
    "    print(f\"Topic #{idx}:\")\n",
    "    print([word for word, prob in topic[1]])\n",
    "\n",
    "print(\"\\nLDA Topics:\")\n",
    "for idx, topic in lda_topics:\n",
    "    print(f\"Topic #{idx}:\")\n",
    "    print([word for word, prob in topic])"
   ]
  },
  {
   "cell_type": "markdown",
   "metadata": {},
   "source": [
    "### Enrichment through question classification"
   ]
  },
  {
   "cell_type": "markdown",
   "metadata": {},
   "source": [
    "Download dataset by Li and Roth (2002) from \"Learning Question Classifiers\""
   ]
  },
  {
   "cell_type": "code",
   "execution_count": 3,
   "metadata": {},
   "outputs": [
    {
     "name": "stdout",
     "output_type": "stream",
     "text": [
      "Downloading training data from https://cogcomp.seas.upenn.edu/Data/QA/QC/train_5500.label...\n",
      "Training data saved to ../data/raw/question_classifier\\qc_train.label.\n",
      "Downloading test data from https://cogcomp.seas.upenn.edu/Data/QA/QC/TREC_10.label...\n",
      "Test data saved to ../data/raw/question_classifier\\qc_test.label.\n"
     ]
    }
   ],
   "source": [
    "def download_file(url, save_path):\n",
    "    \"\"\"Download a file from a URL and save it to a specified path.\"\"\"\n",
    "    response = requests.get(url)\n",
    "    response.raise_for_status()\n",
    "    with open(save_path, 'wb') as file:\n",
    "        file.write(response.content)\n",
    "\n",
    "# Define paths\n",
    "base_dir = '../data/raw/question_classifier'\n",
    "train_file_path = os.path.join(base_dir, 'qc_train.label')\n",
    "test_file_path = os.path.join(base_dir, 'qc_test.label')\n",
    "\n",
    "# Create the directory if it doesn't exist\n",
    "os.makedirs(base_dir, exist_ok=True)\n",
    "\n",
    "# URLs for the datasets\n",
    "train_url = 'https://cogcomp.seas.upenn.edu/Data/QA/QC/train_5500.label'\n",
    "test_url = 'https://cogcomp.seas.upenn.edu/Data/QA/QC/TREC_10.label'\n",
    "\n",
    "# Download and save the files\n",
    "if not os.path.exists(train_file_path):\n",
    "    print(f\"Downloading training data from {train_url}...\")\n",
    "    download_file(train_url, train_file_path)\n",
    "    print(f\"Training data saved to {train_file_path}.\")\n",
    "else:\n",
    "    print(f\"Training data already exists at {train_file_path}.\")\n",
    "\n",
    "if not os.path.exists(test_file_path):\n",
    "    print(f\"Downloading test data from {test_url}...\")\n",
    "    download_file(test_url, test_file_path)\n",
    "    print(f\"Test data saved to {test_file_path}.\")\n",
    "else:\n",
    "    print(f\"Test data already exists at {test_file_path}.\")"
   ]
  },
  {
   "cell_type": "code",
   "execution_count": 1,
   "metadata": {},
   "outputs": [
    {
     "name": "stdout",
     "output_type": "stream",
     "text": [
      "Training Data Sample:\n",
      "  label                                           question\n",
      "0  DESC  How did serfdom develop in and then leave Russ...\n",
      "1  ENTY   What films featured the character Popeye Doyle ?\n",
      "2  DESC  How can I find a list of celebrities ' real na...\n",
      "3  ENTY  What fowl grabs the spotlight after the Chines...\n",
      "4  ABBR                    What is the full form of .com ?\n",
      "\n",
      "Test Data Sample:\n",
      "  label                                  question\n",
      "0   NUM      How far is it from Denver to Aspen ?\n",
      "1   LOC  What county is Modesto , California in ?\n",
      "2   HUM                         Who was Galileo ?\n",
      "3  DESC                         What is an atom ?\n",
      "4   NUM          When did Hawaii become a state ?\n",
      "\n",
      "Model training completed.\n",
      "\n",
      "Classification Report:\n",
      "              precision    recall  f1-score   support\n",
      "\n",
      "        ABBR       1.00      0.78      0.88         9\n",
      "        DESC       0.77      0.98      0.86       138\n",
      "        ENTY       0.83      0.71      0.77        94\n",
      "         HUM       0.89      0.89      0.89        65\n",
      "         LOC       0.85      0.84      0.84        81\n",
      "         NUM       0.99      0.81      0.89       113\n",
      "\n",
      "    accuracy                           0.85       500\n",
      "   macro avg       0.89      0.83      0.85       500\n",
      "weighted avg       0.86      0.85      0.85       500\n",
      "\n",
      "Accuracy: 0.852\n"
     ]
    }
   ],
   "source": [
    "# Function to load and preprocess data\n",
    "def load_data(file_path):\n",
    "    data = []\n",
    "    with open(file_path, 'r') as file:\n",
    "        for line in file:\n",
    "            line = line.strip()\n",
    "            if line:\n",
    "                # Split the line into label and question\n",
    "                label_and_question = line.split(' ', 1)\n",
    "                if len(label_and_question) != 2:\n",
    "                    continue  # Skip malformed lines\n",
    "                full_label, question = label_and_question\n",
    "                # Extract the main category (e.g., 'DESC' from 'DESC:manner')\n",
    "                main_label = full_label.split(':')[0]\n",
    "                data.append((main_label, question))\n",
    "    # Create a DataFrame from the data\n",
    "    df = pd.DataFrame(data, columns=['label', 'question'])\n",
    "    return df\n",
    "\n",
    "# 1. Load and preprocess the training data\n",
    "train_file_path = '../data/raw/question_classifier/qc_train.label'\n",
    "df_train = load_data(train_file_path)\n",
    "\n",
    "# Display the first few rows to verify\n",
    "print(\"Training Data Sample:\")\n",
    "print(df_train.head())\n",
    "\n",
    "# 2. Load and preprocess the test data\n",
    "test_file_path = '../data/raw/question_classifier/qc_test.label'\n",
    "df_test = load_data(test_file_path)\n",
    "\n",
    "# Display the first few rows to verify\n",
    "print(\"\\nTest Data Sample:\")\n",
    "print(df_test.head())\n",
    "\n",
    "# 3. Separate features and labels\n",
    "X_train = df_train['question']\n",
    "y_train = df_train['label']\n",
    "\n",
    "X_test = df_test['question']\n",
    "y_test = df_test['label']\n",
    "\n",
    "# 4. Set up the machine learning model: transform into TF-IDF features, then apply a logistic regression classifier\n",
    "pipeline = Pipeline([\n",
    "    ('tfidf', TfidfVectorizer()),\n",
    "    ('clf', LogisticRegression(max_iter=1000, random_state=42))\n",
    "])\n",
    "\n",
    "# 5. Train the model on the entire training set\n",
    "pipeline.fit(X_train, y_train)\n",
    "print(\"\\nModel training completed.\")\n",
    "\n",
    "# 6. Evaluate the model on the separate test set\n",
    "y_pred = pipeline.predict(X_test)\n",
    "\n",
    "# Print evaluation metrics\n",
    "print(\"\\nClassification Report:\")\n",
    "print(classification_report(y_test, y_pred))\n",
    "\n",
    "print(\"Accuracy:\", accuracy_score(y_test, y_pred))"
   ]
  },
  {
   "cell_type": "code",
   "execution_count": 2,
   "metadata": {},
   "outputs": [
    {
     "name": "stdout",
     "output_type": "stream",
     "text": [
      "Fitting 5 folds for each of 27 candidates, totalling 135 fits\n",
      "Best parameters set found on development set:\n",
      "{'clf__C': 10, 'clf__penalty': 'l2', 'tfidf__max_df': 0.5, 'tfidf__ngram_range': (1, 2)}\n"
     ]
    }
   ],
   "source": [
    "# Parameter tuning to select most fitting combination for TF-IDF and classifier\n",
    "parameters = {\n",
    "    'tfidf__max_df': (0.25, 0.5, 0.75),\n",
    "    'tfidf__ngram_range': [(1,1), (1,2), (1,3)],\n",
    "    'clf__C': [0.1, 1, 10],\n",
    "    'clf__penalty': ['l2']\n",
    "}\n",
    "\n",
    "grid_search = GridSearchCV(pipeline, parameters, cv=5, n_jobs=-1, verbose=1)\n",
    "grid_search.fit(X_train, y_train)\n",
    "print(\"Best parameters set found on development set:\")\n",
    "print(grid_search.best_params_)"
   ]
  },
  {
   "cell_type": "code",
   "execution_count": 3,
   "metadata": {},
   "outputs": [
    {
     "name": "stdout",
     "output_type": "stream",
     "text": [
      "\n",
      "Model training completed.\n",
      "\n",
      "Classification Report:\n",
      "              precision    recall  f1-score   support\n",
      "\n",
      "        ABBR       1.00      0.78      0.88         9\n",
      "        DESC       0.80      1.00      0.89       138\n",
      "        ENTY       0.85      0.70      0.77        94\n",
      "         HUM       0.90      0.94      0.92        65\n",
      "         LOC       0.92      0.86      0.89        81\n",
      "         NUM       1.00      0.87      0.93       113\n",
      "\n",
      "    accuracy                           0.88       500\n",
      "   macro avg       0.91      0.86      0.88       500\n",
      "weighted avg       0.89      0.88      0.88       500\n",
      "\n",
      "Accuracy: 0.88\n"
     ]
    }
   ],
   "source": [
    "# Initialize TfidfVectorizer with the extracted parameters\n",
    "tfidf = TfidfVectorizer(\n",
    "    max_df=0.5,\n",
    "    ngram_range=(1,2)\n",
    ")\n",
    "\n",
    "# Initialize LogisticRegression with the extracted parameters\n",
    "clf = LogisticRegression(\n",
    "    C=10,\n",
    "    penalty='l2',\n",
    "    solver='liblinear',  \n",
    "    max_iter=1000,\n",
    "    random_state=42\n",
    ")\n",
    "\n",
    "# Set up the machine learning model:\n",
    "# Transform into TF-IDF features, then apply a logistic regression classifier.\n",
    "pipeline = Pipeline([\n",
    "    ('tfidf', tfidf),\n",
    "    ('clf', clf)\n",
    "])\n",
    "\n",
    "# Train the model on the entire training set\n",
    "pipeline.fit(X_train, y_train)\n",
    "print(\"\\nModel training completed.\")\n",
    "\n",
    "# Evaluate the model on the separate test set\n",
    "y_pred = pipeline.predict(X_test)\n",
    "\n",
    "# Print evaluation metrics\n",
    "print(\"\\nClassification Report:\")\n",
    "print(classification_report(y_test, y_pred))\n",
    "\n",
    "print(\"Accuracy:\", accuracy_score(y_test, y_pred))"
   ]
  },
  {
   "cell_type": "code",
   "execution_count": 5,
   "metadata": {},
   "outputs": [
    {
     "name": "stdout",
     "output_type": "stream",
     "text": [
      "Sampled 150 questions for classification.\n",
      "Assigning classes to sampled questions...\n"
     ]
    },
    {
     "name": "stderr",
     "output_type": "stream",
     "text": [
      "Classifying Questions: 100%|█████████████████████████████████████████████████████████| 150/150 [02:37<00:00,  1.05s/it]"
     ]
    },
    {
     "name": "stdout",
     "output_type": "stream",
     "text": [
      "\n",
      "Sample of Enriched DataFrame:\n",
      "                                            question class\n",
      "0  How much did the console sell for bundled with...   NUM\n",
      "1  Where does 'The Kidnapping of Edgardo Mortara'...   LOC\n",
      "2  What is thought to be the first fictionalized ...  DESC\n",
      "3  With what word should you see a candle flicker...  DESC\n",
      "4                       What insect feeds on aphids?  ENTY\n"
     ]
    },
    {
     "name": "stderr",
     "output_type": "stream",
     "text": [
      "\n"
     ]
    }
   ],
   "source": [
    "# -----------------------------\n",
    "# Configuration Parameters\n",
    "# -----------------------------\n",
    "\n",
    "# Define prompt to evaluate performance based on LLM question classification\n",
    "PROMPT_PREFIX = (\n",
    "    \"You are an AI assistant that categorizes questions into one of the following classes:\\n\"\n",
    "    \"ABBR: abbreviation\\n\"\n",
    "    \"ENTY: entities\\n\"\n",
    "    \"DESC: description and abstract concepts\\n\"\n",
    "    \"HUM: human beings\\n\"\n",
    "    \"LOC: locations\\n\"\n",
    "    \"NUM: numeric values\\n\\n\"\n",
    "    \"For each question provided, analyze its content and assign it to the appropriate class code (ABBR, ENTY, DESC, HUM, LOC, NUM). \"\n",
    "    \"Respond with only the class code without any additional text.\"\n",
    ")\n",
    "\n",
    "# Define the number of questions to sample\n",
    "NUM_SAMPLES = 150\n",
    "\n",
    "def sample_questions(df, num_samples=150):\n",
    "    \"\"\"\n",
    "    Sample questions from the DataFrame ensuring diversity across topics.\n",
    "\n",
    "    Args:\n",
    "        df (pd.DataFrame): The DataFrame containing questions and topics.\n",
    "        num_samples (int): Number of questions to sample.\n",
    "\n",
    "    Returns:\n",
    "        pd.DataFrame: Sampled DataFrame.\n",
    "    \"\"\"\n",
    "    # Determine the number of unique topics\n",
    "    unique_topics = df['topic_lda'].nunique()\n",
    "    \n",
    "    # Calculate samples per topic\n",
    "    samples_per_topic = num_samples // unique_topics\n",
    "    remainder = num_samples % unique_topics\n",
    "    \n",
    "    sampled_df = pd.DataFrame()\n",
    "\n",
    "    # Sample equally from each topic\n",
    "    for topic in df['topic_lda'].unique():\n",
    "        topic_df = df[df['topic_lda'] == topic]\n",
    "        if len(topic_df) < samples_per_topic:\n",
    "            sampled = topic_df.sample(n=len(topic_df), replace=True, random_state=42)\n",
    "        else:\n",
    "            sampled = topic_df.sample(n=samples_per_topic, random_state=42)\n",
    "        sampled_df = pd.concat([sampled_df, sampled], ignore_index=True)\n",
    "    \n",
    "    # Sample the remaining questions randomly\n",
    "    if remainder > 0:\n",
    "        remaining_df = df.drop(sampled_df.index).sample(n=remainder, random_state=42)\n",
    "        sampled_df = pd.concat([sampled_df, remaining_df], ignore_index=True)\n",
    "    \n",
    "    return sampled_df.reset_index(drop=True)\n",
    "\n",
    "def assign_class(question, retry=3, sleep_time=2):\n",
    "    \"\"\"\n",
    "    Use OpenAI API to assign a class to the given question.\n",
    "\n",
    "    Args:\n",
    "        question (str): The question to classify.\n",
    "        retry (int): Number of retries in case of failure.\n",
    "        sleep_time (int): Seconds to wait before retrying.\n",
    "\n",
    "    Returns:\n",
    "        str: Assigned class code.\n",
    "    \"\"\"\n",
    "    for attempt in range(retry):\n",
    "        try:\n",
    "\n",
    "            client = openai.OpenAI()\n",
    "            response = client.chat.completions.create(\n",
    "                messages=[\n",
    "                    {\"role\": \"system\", \"content\": PROMPT_PREFIX},\n",
    "                    {\n",
    "                        \"role\": \"user\",\n",
    "                        \"content\": f\"Question:\\n{question}\\n\\nAnswer:\"\n",
    "                    }\n",
    "                ],\n",
    "                model=\"gpt-4o\",\n",
    "                temperature=0,\n",
    "                top_p=1\n",
    "            )\n",
    "            answer = response.choices[0].message.content.strip().upper()\n",
    "            \n",
    "            # Validate the response\n",
    "            valid_classes = {'ABBR', 'ENTY', 'DESC', 'HUM', 'LOC', 'NUM'}\n",
    "            if answer in valid_classes:\n",
    "                return answer\n",
    "            else:\n",
    "                # If response is not valid, raise an error to trigger retry\n",
    "                raise ValueError(f\"Invalid class code received: {answer}\")\n",
    "        \n",
    "        except Exception as e:\n",
    "            print(f\"Error assigning class to question: '{question}'. Attempt {attempt + 1} of {retry}. Error: {e}\")\n",
    "            time.sleep(sleep_time)\n",
    "    \n",
    "    # Assign 'UNKNOWN' if classification fails\n",
    "    return 'UNKNOWN'\n",
    "\n",
    "# -----------------------------\n",
    "# Main Processing\n",
    "# -----------------------------\n",
    "\n",
    "# Load the data\n",
    "possible_df = pd.read_json('../data/cleaned/squad/squad_train-v2.0_with_topics.json', orient='records', lines=True)\n",
    "\n",
    "# Sample questions\n",
    "sampled_df = sample_questions(possible_df, NUM_SAMPLES)\n",
    "print(f\"Sampled {len(sampled_df)} questions for classification.\")\n",
    "\n",
    "# Initialize a list to store class assignments\n",
    "class_assignments = []\n",
    "\n",
    "# Iterate over each question and assign a class\n",
    "print(\"Assigning classes to sampled questions...\")\n",
    "for question in tqdm(sampled_df['question'], desc=\"Classifying Questions\"):\n",
    "    cls = assign_class(question)\n",
    "    class_assignments.append(cls)\n",
    "\n",
    "# Create a new DataFrame with only 'question' and 'class' columns\n",
    "enriched_df = pd.DataFrame({\n",
    "    'question': sampled_df['question'],\n",
    "    'class': class_assignments\n",
    "})\n",
    "\n",
    "# Display the first few rows of the enriched DataFrame\n",
    "print(\"\\nSample of Enriched DataFrame:\")\n",
    "print(enriched_df.head())"
   ]
  },
  {
   "cell_type": "code",
   "execution_count": 6,
   "metadata": {},
   "outputs": [
    {
     "name": "stdout",
     "output_type": "stream",
     "text": [
      "\n",
      "Model Evaluation on Enriched Data:\n",
      "              precision    recall  f1-score   support\n",
      "\n",
      "        ABBR       0.00      0.00      0.00         3\n",
      "        DESC       0.86      0.41      0.56        46\n",
      "        ENTY       0.30      0.68      0.42        19\n",
      "         HUM       0.69      0.82      0.75        22\n",
      "         LOC       0.71      0.71      0.71        17\n",
      "         NUM       0.90      0.88      0.89        43\n",
      "\n",
      "    accuracy                           0.67       150\n",
      "   macro avg       0.58      0.58      0.55       150\n",
      "weighted avg       0.74      0.67      0.67       150\n",
      "\n",
      "Accuracy: 0.6666666666666666\n",
      "\n",
      "Sample of Enriched DataFrame with Predictions:\n",
      "                                            question class predicted_class\n",
      "0  How much did the console sell for bundled with...   NUM             NUM\n",
      "1  Where does 'The Kidnapping of Edgardo Mortara'...   LOC             LOC\n",
      "2  What is thought to be the first fictionalized ...  DESC            DESC\n",
      "3  With what word should you see a candle flicker...  DESC            ENTY\n",
      "4                       What insect feeds on aphids?  ENTY            ENTY\n"
     ]
    },
    {
     "name": "stderr",
     "output_type": "stream",
     "text": [
      "C:\\Users\\Emir\\Documents\\Training\\VS Code\\Master-Arbeit\\master-thesis\\venv\\Lib\\site-packages\\sklearn\\metrics\\_classification.py:1531: UndefinedMetricWarning: Precision is ill-defined and being set to 0.0 in labels with no predicted samples. Use `zero_division` parameter to control this behavior.\n",
      "  _warn_prf(average, modifier, f\"{metric.capitalize()} is\", len(result))\n",
      "C:\\Users\\Emir\\Documents\\Training\\VS Code\\Master-Arbeit\\master-thesis\\venv\\Lib\\site-packages\\sklearn\\metrics\\_classification.py:1531: UndefinedMetricWarning: Precision is ill-defined and being set to 0.0 in labels with no predicted samples. Use `zero_division` parameter to control this behavior.\n",
      "  _warn_prf(average, modifier, f\"{metric.capitalize()} is\", len(result))\n",
      "C:\\Users\\Emir\\Documents\\Training\\VS Code\\Master-Arbeit\\master-thesis\\venv\\Lib\\site-packages\\sklearn\\metrics\\_classification.py:1531: UndefinedMetricWarning: Precision is ill-defined and being set to 0.0 in labels with no predicted samples. Use `zero_division` parameter to control this behavior.\n",
      "  _warn_prf(average, modifier, f\"{metric.capitalize()} is\", len(result))\n"
     ]
    }
   ],
   "source": [
    "# Separate the questions and the ground truth classes\n",
    "X_enriched = enriched_df['question']\n",
    "y_enriched_true = enriched_df['class']\n",
    "\n",
    "# Predict classes using the trained pipeline\n",
    "y_enriched_pred = pipeline.predict(X_enriched)\n",
    "\n",
    "# Add predictions as a new column to enriched_df\n",
    "enriched_df['predicted_class'] = y_enriched_pred\n",
    "\n",
    "# Evaluate model performance\n",
    "print(\"\\nModel Evaluation on Enriched Data:\")\n",
    "print(classification_report(y_enriched_true, y_enriched_pred))\n",
    "print(\"Accuracy:\", accuracy_score(y_enriched_true, y_enriched_pred))\n",
    "\n",
    "# Display a sample of the enriched DataFrame with predictions\n",
    "print(\"\\nSample of Enriched DataFrame with Predictions:\")\n",
    "print(enriched_df.head())"
   ]
  },
  {
   "cell_type": "code",
   "execution_count": 7,
   "metadata": {},
   "outputs": [
    {
     "name": "stdout",
     "output_type": "stream",
     "text": [
      "\n",
      "Sample of Misclassified Instances:\n",
      "                                             question class predicted_class\n",
      "3   With what word should you see a candle flicker...  DESC            ENTY\n",
      "5   What two apex predators do not have a small po...  ENTY             LOC\n",
      "10  Because of a dog's resourcefulness to people, ...  DESC             HUM\n",
      "13  What term is used for an adaptation that enabl...  ABBR            ENTY\n",
      "14  What do birds to compensate for the changing p...  DESC            ENTY\n",
      "\n",
      "Top Misclassifications:\n",
      "   class predicted_class  count\n",
      "2   DESC            ENTY     21\n",
      "15   NUM            ENTY      4\n",
      "5   DESC             NUM      3\n",
      "14   LOC             HUM      3\n",
      "7   ENTY             HUM      3\n"
     ]
    },
    {
     "data": {
      "image/png": "[encoded data removed]",
      "text/plain": [
       "<Figure size 1000x800 with 2 Axes>"
      ]
     },
     "metadata": {},
     "output_type": "display_data"
    },
    {
     "data": {
      "image/png": "[encoded data removed]",
      "text/plain": [
       "<Figure size 1200x600 with 1 Axes>"
      ]
     },
     "metadata": {},
     "output_type": "display_data"
    }
   ],
   "source": [
    "# Identify misclassified examples\n",
    "errors_df = enriched_df[enriched_df['class'] != enriched_df['predicted_class']]\n",
    "\n",
    "# Display sample misclassified instances\n",
    "print(\"\\nSample of Misclassified Instances:\")\n",
    "print(errors_df[['question', 'class', 'predicted_class']].head())\n",
    "\n",
    "# Analyze common misclassifications\n",
    "error_counts = errors_df.groupby(['class', 'predicted_class']).size().reset_index(name='count')\n",
    "error_counts = error_counts.sort_values(by='count', ascending=False)\n",
    "print(\"\\nTop Misclassifications:\")\n",
    "print(error_counts.head())\n",
    "\n",
    "# Plotting the confusion matrix for a complete overview of classification performance\n",
    "conf_matrix = confusion_matrix(enriched_df['class'], enriched_df['predicted_class'], labels=enriched_df['class'].unique())\n",
    "plt.figure(figsize=(10, 8))\n",
    "sns.heatmap(conf_matrix, annot=True, fmt='d', cmap='Blues', xticklabels=enriched_df['class'].unique(), yticklabels=enriched_df['class'].unique())\n",
    "plt.xlabel('Predicted Class')\n",
    "plt.ylabel('True Class')\n",
    "plt.title('Confusion Matrix')\n",
    "plt.show()\n",
    "\n",
    "# Visualizing the top misclassifications as a bar plot\n",
    "plt.figure(figsize=(12, 6))\n",
    "sns.barplot(data=error_counts.head(10), x='count', y='class', hue='predicted_class')\n",
    "plt.xlabel('Count of Misclassifications')\n",
    "plt.ylabel('True Class')\n",
    "plt.title('Top 10 Misclassifications')\n",
    "plt.legend(title='Predicted Class')\n",
    "plt.show()"
   ]
  },
  {
   "cell_type": "code",
   "execution_count": 7,
   "metadata": {},
   "outputs": [
    {
     "data": {
      "text/html": [
       "<div>\n",
       "<style scoped>\n",
       "    .dataframe tbody tr th:only-of-type {\n",
       "        vertical-align: middle;\n",
       "    }\n",
       "\n",
       "    .dataframe tbody tr th {\n",
       "        vertical-align: top;\n",
       "    }\n",
       "\n",
       "    .dataframe thead th {\n",
       "        text-align: right;\n",
       "    }\n",
       "</style>\n",
       "<table border=\"1\" class=\"dataframe\">\n",
       "  <thead>\n",
       "    <tr style=\"text-align: right;\">\n",
       "      <th></th>\n",
       "      <th>question</th>\n",
       "      <th>class</th>\n",
       "      <th>predicted_class</th>\n",
       "    </tr>\n",
       "  </thead>\n",
       "  <tbody>\n",
       "    <tr>\n",
       "      <th>3</th>\n",
       "      <td>With what word should you see a candle flicker...</td>\n",
       "      <td>DESC</td>\n",
       "      <td>ENTY</td>\n",
       "    </tr>\n",
       "    <tr>\n",
       "      <th>10</th>\n",
       "      <td>Because of a dog's resourcefulness to people, ...</td>\n",
       "      <td>DESC</td>\n",
       "      <td>HUM</td>\n",
       "    </tr>\n",
       "    <tr>\n",
       "      <th>14</th>\n",
       "      <td>What do birds to compensate for the changing p...</td>\n",
       "      <td>DESC</td>\n",
       "      <td>ENTY</td>\n",
       "    </tr>\n",
       "    <tr>\n",
       "      <th>18</th>\n",
       "      <td>What was the fault not considered in the early...</td>\n",
       "      <td>DESC</td>\n",
       "      <td>NUM</td>\n",
       "    </tr>\n",
       "    <tr>\n",
       "      <th>22</th>\n",
       "      <td>What is it called when there is greater than 3...</td>\n",
       "      <td>DESC</td>\n",
       "      <td>NUM</td>\n",
       "    </tr>\n",
       "    <tr>\n",
       "      <th>24</th>\n",
       "      <td>Rain, snow, and wind are what class of things ...</td>\n",
       "      <td>DESC</td>\n",
       "      <td>ENTY</td>\n",
       "    </tr>\n",
       "    <tr>\n",
       "      <th>27</th>\n",
       "      <td>What does confrontational scavenging involve d...</td>\n",
       "      <td>DESC</td>\n",
       "      <td>ENTY</td>\n",
       "    </tr>\n",
       "    <tr>\n",
       "      <th>28</th>\n",
       "      <td>What becomes developed all the time?</td>\n",
       "      <td>DESC</td>\n",
       "      <td>ENTY</td>\n",
       "    </tr>\n",
       "    <tr>\n",
       "      <th>32</th>\n",
       "      <td>What is the most typical staining technique us...</td>\n",
       "      <td>DESC</td>\n",
       "      <td>ENTY</td>\n",
       "    </tr>\n",
       "    <tr>\n",
       "      <th>36</th>\n",
       "      <td>By understanding what does Vaisesika school be...</td>\n",
       "      <td>DESC</td>\n",
       "      <td>ENTY</td>\n",
       "    </tr>\n",
       "    <tr>\n",
       "      <th>37</th>\n",
       "      <td>The novel explores various forms of what trait?</td>\n",
       "      <td>DESC</td>\n",
       "      <td>ENTY</td>\n",
       "    </tr>\n",
       "    <tr>\n",
       "      <th>38</th>\n",
       "      <td>Which dialect is it similar to?</td>\n",
       "      <td>DESC</td>\n",
       "      <td>ENTY</td>\n",
       "    </tr>\n",
       "    <tr>\n",
       "      <th>40</th>\n",
       "      <td>What did General Henry Guisan order a general ...</td>\n",
       "      <td>DESC</td>\n",
       "      <td>ENTY</td>\n",
       "    </tr>\n",
       "    <tr>\n",
       "      <th>43</th>\n",
       "      <td>What was established when Australia was coloni...</td>\n",
       "      <td>DESC</td>\n",
       "      <td>NUM</td>\n",
       "    </tr>\n",
       "    <tr>\n",
       "      <th>44</th>\n",
       "      <td>What did Russian Empress Elizabeth use the pro...</td>\n",
       "      <td>DESC</td>\n",
       "      <td>ENTY</td>\n",
       "    </tr>\n",
       "    <tr>\n",
       "      <th>45</th>\n",
       "      <td>What were walled quarters known as?</td>\n",
       "      <td>DESC</td>\n",
       "      <td>ENTY</td>\n",
       "    </tr>\n",
       "    <tr>\n",
       "      <th>48</th>\n",
       "      <td>In what state was the Egyptian army after figh...</td>\n",
       "      <td>DESC</td>\n",
       "      <td>LOC</td>\n",
       "    </tr>\n",
       "    <tr>\n",
       "      <th>51</th>\n",
       "      <td>What did Napoleon display tolerance related to...</td>\n",
       "      <td>DESC</td>\n",
       "      <td>ENTY</td>\n",
       "    </tr>\n",
       "    <tr>\n",
       "      <th>58</th>\n",
       "      <td>What does Bellah say the separation of church ...</td>\n",
       "      <td>DESC</td>\n",
       "      <td>LOC</td>\n",
       "    </tr>\n",
       "    <tr>\n",
       "      <th>69</th>\n",
       "      <td>What did members of the debate team get for th...</td>\n",
       "      <td>DESC</td>\n",
       "      <td>ENTY</td>\n",
       "    </tr>\n",
       "  </tbody>\n",
       "</table>\n",
       "</div>"
      ],
      "text/plain": [
       "                                             question class predicted_class\n",
       "3   With what word should you see a candle flicker...  DESC            ENTY\n",
       "10  Because of a dog's resourcefulness to people, ...  DESC             HUM\n",
       "14  What do birds to compensate for the changing p...  DESC            ENTY\n",
       "18  What was the fault not considered in the early...  DESC             NUM\n",
       "22  What is it called when there is greater than 3...  DESC             NUM\n",
       "24  Rain, snow, and wind are what class of things ...  DESC            ENTY\n",
       "27  What does confrontational scavenging involve d...  DESC            ENTY\n",
       "28               What becomes developed all the time?  DESC            ENTY\n",
       "32  What is the most typical staining technique us...  DESC            ENTY\n",
       "36  By understanding what does Vaisesika school be...  DESC            ENTY\n",
       "37    The novel explores various forms of what trait?  DESC            ENTY\n",
       "38                    Which dialect is it similar to?  DESC            ENTY\n",
       "40  What did General Henry Guisan order a general ...  DESC            ENTY\n",
       "43  What was established when Australia was coloni...  DESC             NUM\n",
       "44  What did Russian Empress Elizabeth use the pro...  DESC            ENTY\n",
       "45                What were walled quarters known as?  DESC            ENTY\n",
       "48  In what state was the Egyptian army after figh...  DESC             LOC\n",
       "51  What did Napoleon display tolerance related to...  DESC            ENTY\n",
       "58  What does Bellah say the separation of church ...  DESC             LOC\n",
       "69  What did members of the debate team get for th...  DESC            ENTY"
      ]
     },
     "execution_count": 7,
     "metadata": {},
     "output_type": "execute_result"
    }
   ],
   "source": [
    "errors_df[errors_df['class'] == 'DESC'].head(20)"
   ]
  },
  {
   "cell_type": "code",
   "execution_count": 10,
   "metadata": {},
   "outputs": [
    {
     "data": {
      "image/png": "[encoded data removed]",
      "text/plain": [
       "<Figure size 500x400 with 2 Axes>"
      ]
     },
     "metadata": {},
     "output_type": "display_data"
    },
    {
     "data": {
      "image/png": "[encoded data removed]",
      "text/plain": [
       "<Figure size 500x300 with 1 Axes>"
      ]
     },
     "metadata": {},
     "output_type": "display_data"
    }
   ],
   "source": [
    "# Plotting the confusion matrix for a complete overview of classification performance\n",
    "conf_matrix = confusion_matrix(enriched_df['class'], enriched_df['predicted_class'], labels=enriched_df['class'].unique())\n",
    "plt.figure(figsize=(5, 4))\n",
    "sns.heatmap(conf_matrix, annot=True, fmt='d', cmap='Blues', xticklabels=enriched_df['class'].unique(), yticklabels=enriched_df['class'].unique())\n",
    "plt.xlabel('Predicted Class')\n",
    "plt.ylabel('True Class')\n",
    "plt.title('Confusion Matrix')\n",
    "plt.savefig('figures/methodology_qc_confusionmatrix.png', bbox_inches='tight')\n",
    "plt.savefig('figures/methodology_qc_confusionmatrix.svg', bbox_inches='tight', format='svg', dpi=1200)\n",
    "plt.show()\n",
    "\n",
    "# Visualizing the top misclassifications as a bar plot\n",
    "plt.figure(figsize=(5, 3))\n",
    "sns.barplot(data=error_counts.head(10), x='count', y='class', hue='predicted_class')\n",
    "plt.xlabel('Count of Misclassifications')\n",
    "plt.ylabel('True Class')\n",
    "plt.title('Top 10 Misclassifications')\n",
    "plt.legend(title='Predicted Class')\n",
    "plt.savefig('figures/methodology_qc_misclass.png', bbox_inches='tight')\n",
    "plt.savefig('figures/methodology_qc_misclass.svg', bbox_inches='tight', format='svg', dpi=1200)\n",
    "plt.show()"
   ]
  },
  {
   "cell_type": "code",
   "execution_count": 11,
   "metadata": {
    "colab": {
     "base_uri": "https://localhost:8080/"
    },
    "id": "cq2qWVMA8Ewj",
    "outputId": "8b9dcc86-5a7a-4512-d05a-18175a28adc3"
   },
   "outputs": [
    {
     "name": "stdout",
     "output_type": "stream",
     "text": [
      "\n",
      "Enriched DataFrame saved as 'squad_train-v2.0_with_topics.json'\n"
     ]
    }
   ],
   "source": [
    "# Save the enriched DataFrame\n",
    "df_possible.to_json('../data/cleaned/squad/squad_train-v2.0_with_topics.json', orient='records', lines=True, force_ascii=False)\n",
    "print(\"\\nEnriched DataFrame saved as 'squad_train-v2.0_with_topics.json'\")"
   ]
  },
  {
   "cell_type": "markdown",
   "metadata": {
    "id": "PfbJidRY4R-n"
   },
   "source": [
    "## Healthcare - Ascpelius Dataset"
   ]
  },
  {
   "cell_type": "markdown",
   "metadata": {
    "id": "I5wnq4ue81rK"
   },
   "source": [
    "### Loading data"
   ]
  },
  {
   "cell_type": "markdown",
   "metadata": {},
   "source": [
    "Dataset needs to be downloaded from: https://huggingface.co/datasets/qiaojin/PubMedQA"
   ]
  },
  {
   "cell_type": "code",
   "execution_count": 13,
   "metadata": {
    "id": "gqLJwIaZ83Gk"
   },
   "outputs": [
    {
     "name": "stderr",
     "output_type": "stream",
     "text": [
      "C:\\Users\\Emir\\AppData\\Local\\Temp\\ipykernel_21492\\3560276111.py:35: SettingWithCopyWarning: \n",
      "A value is trying to be set on a copy of a slice from a DataFrame\n",
      "\n",
      "See the caveats in the documentation: https://pandas.pydata.org/pandas-docs/stable/user_guide/indexing.html#returning-a-view-versus-a-copy\n",
      "  evaluation_df.rename(columns={'full_context':'context', 'long_answer':'answer'}, inplace=True)\n"
     ]
    },
    {
     "name": "stdout",
     "output_type": "stream",
     "text": [
      "                                            question  \\\n",
      "0  Are group 2 innate lymphoid cells ( ILC2s ) in...   \n",
      "1  Does vagus nerve contribute to the development...   \n",
      "2  Does psammaplin A induce Sirtuin 1-dependent a...   \n",
      "3  Is methylation of the FGFR2 gene associated wi...   \n",
      "4  Do tumor-infiltrating immune cell profiles and...   \n",
      "\n",
      "                                             context  \\\n",
      "0  Chronic rhinosinusitis (CRS) is a heterogeneou...   \n",
      "1  Phosphatidylethanolamine N-methyltransferase (...   \n",
      "2  Psammaplin A (PsA) is a natural product isolat...   \n",
      "3  This study examined links between DNA methylat...   \n",
      "4  Tumor microenvironment immunity is associated ...   \n",
      "\n",
      "                                              answer  \\\n",
      "0  As ILC2s are elevated in patients with CRSwNP,...   \n",
      "1  Neuronal signals via the hepatic vagus nerve c...   \n",
      "2  PsA significantly inhibited MCF-7/adr cells pr...   \n",
      "3  We identified a novel biologically plausible c...   \n",
      "4  Breast cancer immune cell subpopulation profil...   \n",
      "\n",
      "                                              meshes  \n",
      "0  [Adult, Aged, Antigens, Surface, Case-Control ...  \n",
      "1  [Animals, Chemokine CCL2, Diet, High-Fat, Dise...  \n",
      "2  [Acetylation, Animals, Antibiotics, Antineopla...  \n",
      "3                                                 []  \n",
      "4  [Adult, Aged, Anthracyclines, Antibodies, Mono...  \n"
     ]
    }
   ],
   "source": [
    "# Load the data from the Parquet file\n",
    "df = pd.read_parquet(\"../data/raw/pubmedqa/train-00000-of-00001.parquet\")\n",
    "\n",
    "# Function to parse the 'context' field\n",
    "def parse_context(context_data):\n",
    "    try:\n",
    "        # Check if context_data is already a dictionary\n",
    "        if isinstance(context_data, dict):\n",
    "            context_dict = context_data\n",
    "        else:\n",
    "            # If it's a string, process it for JSON compatibility\n",
    "            context_data = re.sub(r\"array\\(\", \"\", context_data).replace(\")\", \"\")\n",
    "            context_data = context_data.replace(\"'\", '\"')\n",
    "            context_dict = json.loads(context_data)\n",
    "        \n",
    "        # Extract the 'contexts', 'labels', and 'meshes' fields\n",
    "        contexts = context_dict.get('contexts', [])\n",
    "        labels = context_dict.get('labels', [])\n",
    "        meshes = context_dict.get('meshes', [])\n",
    "        \n",
    "        # Join the contexts into a single string\n",
    "        full_context = ' '.join(contexts)\n",
    "        return full_context, labels, meshes\n",
    "    except Exception as e:\n",
    "        print(f\"Error parsing context: {e}\")\n",
    "        return '', [], []\n",
    "\n",
    "# Apply the parsing function to the 'context' column\n",
    "df[['full_context', 'labels', 'meshes']] = df.apply(\n",
    "    lambda row: pd.Series(parse_context(row['context'])), axis=1\n",
    ")\n",
    "\n",
    "# Prepare the evaluation DataFrame\n",
    "evaluation_df = df[['question', 'full_context', 'long_answer', 'meshes']]\n",
    "evaluation_df.rename(columns={'full_context':'context', 'long_answer':'answer'}, inplace=True)\n",
    "\n",
    "# Display the first few rows of the evaluation DataFrame\n",
    "print(evaluation_df.head())\n",
    "\n",
    "# Save the preprocessed data to a new file\n",
    "evaluation_df.to_csv('../data/raw/pubmedqa/pubmedqa_artificial.csv', index=False)"
   ]
  },
  {
   "cell_type": "code",
   "execution_count": 2,
   "metadata": {
    "colab": {
     "base_uri": "https://localhost:8080/"
    },
    "id": "8n1XJKb68_hA",
    "outputId": "92278bb8-9b21-4e4e-8538-f60472b10b0b"
   },
   "outputs": [
    {
     "data": {
      "text/plain": [
       "(211269, 4)"
      ]
     },
     "execution_count": 2,
     "metadata": {},
     "output_type": "execute_result"
    }
   ],
   "source": [
    "evaluation_df.shape"
   ]
  },
  {
   "cell_type": "code",
   "execution_count": 3,
   "metadata": {
    "colab": {
     "base_uri": "https://localhost:8080/"
    },
    "id": "dvkTMAm_9BXh",
    "outputId": "64b56205-2878-4272-8f4e-f4842cac05c5"
   },
   "outputs": [
    {
     "data": {
      "text/plain": [
       "211215"
      ]
     },
     "execution_count": 3,
     "metadata": {},
     "output_type": "execute_result"
    }
   ],
   "source": [
    "len(evaluation_df['context'].unique())"
   ]
  },
  {
   "cell_type": "markdown",
   "metadata": {
    "id": "1pqO9ufb9Wy7"
   },
   "source": [
    "### Pre-processing and quality tests"
   ]
  },
  {
   "cell_type": "code",
   "execution_count": 4,
   "metadata": {
    "colab": {
     "base_uri": "https://localhost:8080/",
     "height": 206
    },
    "id": "LBf4QQ219oV6",
    "outputId": "35efd3e6-880e-406b-f662-3f5acd1ce042"
   },
   "outputs": [
    {
     "name": "stderr",
     "output_type": "stream",
     "text": [
      "C:\\Users\\Emir\\AppData\\Local\\Temp\\ipykernel_19120\\484437180.py:8: SettingWithCopyWarning: \n",
      "A value is trying to be set on a copy of a slice from a DataFrame.\n",
      "Try using .loc[row_indexer,col_indexer] = value instead\n",
      "\n",
      "See the caveats in the documentation: https://pandas.pydata.org/pandas-docs/stable/user_guide/indexing.html#returning-a-view-versus-a-copy\n",
      "  evaluation_df['context'] = evaluation_df['context'].apply(clean_note_text)\n"
     ]
    },
    {
     "data": {
      "text/html": [
       "<div>\n",
       "<style scoped>\n",
       "    .dataframe tbody tr th:only-of-type {\n",
       "        vertical-align: middle;\n",
       "    }\n",
       "\n",
       "    .dataframe tbody tr th {\n",
       "        vertical-align: top;\n",
       "    }\n",
       "\n",
       "    .dataframe thead th {\n",
       "        text-align: right;\n",
       "    }\n",
       "</style>\n",
       "<table border=\"1\" class=\"dataframe\">\n",
       "  <thead>\n",
       "    <tr style=\"text-align: right;\">\n",
       "      <th></th>\n",
       "      <th>question</th>\n",
       "      <th>context</th>\n",
       "      <th>answer</th>\n",
       "      <th>meshes</th>\n",
       "    </tr>\n",
       "  </thead>\n",
       "  <tbody>\n",
       "    <tr>\n",
       "      <th>0</th>\n",
       "      <td>Are group 2 innate lymphoid cells ( ILC2s ) in...</td>\n",
       "      <td>Chronic rhinosinusitis (CRS) is a heterogeneou...</td>\n",
       "      <td>As ILC2s are elevated in patients with CRSwNP,...</td>\n",
       "      <td>[Adult, Aged, Antigens, Surface, Case-Control ...</td>\n",
       "    </tr>\n",
       "    <tr>\n",
       "      <th>1</th>\n",
       "      <td>Does vagus nerve contribute to the development...</td>\n",
       "      <td>Phosphatidylethanolamine N-methyltransferase (...</td>\n",
       "      <td>Neuronal signals via the hepatic vagus nerve c...</td>\n",
       "      <td>[Animals, Chemokine CCL2, Diet, High-Fat, Dise...</td>\n",
       "    </tr>\n",
       "    <tr>\n",
       "      <th>2</th>\n",
       "      <td>Does psammaplin A induce Sirtuin 1-dependent a...</td>\n",
       "      <td>Psammaplin A (PsA) is a natural product isolat...</td>\n",
       "      <td>PsA significantly inhibited MCF-7/adr cells pr...</td>\n",
       "      <td>[Acetylation, Animals, Antibiotics, Antineopla...</td>\n",
       "    </tr>\n",
       "    <tr>\n",
       "      <th>3</th>\n",
       "      <td>Is methylation of the FGFR2 gene associated wi...</td>\n",
       "      <td>This study examined links between DNA methylat...</td>\n",
       "      <td>We identified a novel biologically plausible c...</td>\n",
       "      <td>[]</td>\n",
       "    </tr>\n",
       "    <tr>\n",
       "      <th>4</th>\n",
       "      <td>Do tumor-infiltrating immune cell profiles and...</td>\n",
       "      <td>Tumor microenvironment immunity is associated ...</td>\n",
       "      <td>Breast cancer immune cell subpopulation profil...</td>\n",
       "      <td>[Adult, Aged, Anthracyclines, Antibodies, Mono...</td>\n",
       "    </tr>\n",
       "  </tbody>\n",
       "</table>\n",
       "</div>"
      ],
      "text/plain": [
       "                                            question  \\\n",
       "0  Are group 2 innate lymphoid cells ( ILC2s ) in...   \n",
       "1  Does vagus nerve contribute to the development...   \n",
       "2  Does psammaplin A induce Sirtuin 1-dependent a...   \n",
       "3  Is methylation of the FGFR2 gene associated wi...   \n",
       "4  Do tumor-infiltrating immune cell profiles and...   \n",
       "\n",
       "                                             context  \\\n",
       "0  Chronic rhinosinusitis (CRS) is a heterogeneou...   \n",
       "1  Phosphatidylethanolamine N-methyltransferase (...   \n",
       "2  Psammaplin A (PsA) is a natural product isolat...   \n",
       "3  This study examined links between DNA methylat...   \n",
       "4  Tumor microenvironment immunity is associated ...   \n",
       "\n",
       "                                              answer  \\\n",
       "0  As ILC2s are elevated in patients with CRSwNP,...   \n",
       "1  Neuronal signals via the hepatic vagus nerve c...   \n",
       "2  PsA significantly inhibited MCF-7/adr cells pr...   \n",
       "3  We identified a novel biologically plausible c...   \n",
       "4  Breast cancer immune cell subpopulation profil...   \n",
       "\n",
       "                                              meshes  \n",
       "0  [Adult, Aged, Antigens, Surface, Case-Control ...  \n",
       "1  [Animals, Chemokine CCL2, Diet, High-Fat, Dise...  \n",
       "2  [Acetylation, Animals, Antibiotics, Antineopla...  \n",
       "3                                                 []  \n",
       "4  [Adult, Aged, Anthracyclines, Antibodies, Mono...  "
      ]
     },
     "execution_count": 4,
     "metadata": {},
     "output_type": "execute_result"
    }
   ],
   "source": [
    "def clean_note_text(text):\n",
    "    text = text.replace('\\n', ' ')                 # Replace newline characters with space\n",
    "    text = re.sub(r'[\\t\\r\\f\\v]', ' ', text)        # Remove other control characters\n",
    "    text = re.sub(r'\\s+', ' ', text).strip()       # Remove extra whitespace\n",
    "    return text\n",
    "\n",
    "# Apply the cleaning function\n",
    "evaluation_df['context'] = evaluation_df['context'].apply(clean_note_text)\n",
    "\n",
    "evaluation_df.head()"
   ]
  },
  {
   "cell_type": "code",
   "execution_count": 31,
   "metadata": {
    "colab": {
     "base_uri": "https://localhost:8080/"
    },
    "id": "FCXhboyr9u9T",
    "outputId": "2b134658-0e04-459b-fb1f-0defb47f690c"
   },
   "outputs": [
    {
     "name": "stdout",
     "output_type": "stream",
     "text": [
      "\n",
      "Missing values in each column:\n",
      "question    0\n",
      "context     0\n",
      "answer      0\n",
      "dtype: int64\n"
     ]
    }
   ],
   "source": [
    "# Check for missing values in key columns\n",
    "missing_values = evaluation_df[['question', 'context', 'answer']].isnull().sum()\n",
    "print(\"\\nMissing values in each column:\")\n",
    "print(missing_values)"
   ]
  },
  {
   "cell_type": "code",
   "execution_count": 6,
   "metadata": {
    "colab": {
     "base_uri": "https://localhost:8080/"
    },
    "id": "61KUpSYg9wOA",
    "outputId": "82a3139a-ce44-43bd-8540-28597c5d0b57"
   },
   "outputs": [
    {
     "name": "stdout",
     "output_type": "stream",
     "text": [
      "\n",
      "Number of duplicate questions: 0\n",
      "\n",
      "Number of duplicate questions after removing duplicates: 0\n"
     ]
    }
   ],
   "source": [
    "# Check for duplicate questions\n",
    "duplicate_questions = evaluation_df[evaluation_df[['question', 'context']].duplicated(keep=False)]\n",
    "\n",
    "print(f\"\\nNumber of duplicate questions: {len(duplicate_questions)}\")\n",
    "\n",
    "if not duplicate_questions.empty:\n",
    "    print(\"\\nSample of duplicate questions:\")\n",
    "    print(duplicate_questions[['question', 'context']].head())\n",
    "\n",
    "# Remove duplicate questions, keeping the first occurrence\n",
    "evaluation_df = evaluation_df.drop_duplicates(subset=['question'], keep='first')\n",
    "\n",
    "# Verify that duplicates have been removed\n",
    "duplicate_questions_after = evaluation_df[evaluation_df['question'].duplicated(keep=False)]\n",
    "print(f\"\\nNumber of duplicate questions after removing duplicates: {duplicate_questions_after['question'].nunique()}\")"
   ]
  },
  {
   "cell_type": "code",
   "execution_count": 7,
   "metadata": {
    "colab": {
     "base_uri": "https://localhost:8080/"
    },
    "id": "wqXodwyF91h1",
    "outputId": "0237d486-aa88-4dc9-9997-6a3342944c89"
   },
   "outputs": [
    {
     "name": "stdout",
     "output_type": "stream",
     "text": [
      "\n",
      "Question Length Statistics:\n",
      "count    211152.000000\n",
      "mean         15.344382\n",
      "std           3.898387\n",
      "min           3.000000\n",
      "25%          13.000000\n",
      "50%          15.000000\n",
      "75%          17.000000\n",
      "max         109.000000\n",
      "Name: question_length, dtype: float64\n",
      "\n",
      "Context Length Statistics:\n",
      "count    211152.000000\n",
      "mean        200.503798\n",
      "std          50.654652\n",
      "min           1.000000\n",
      "25%         170.000000\n",
      "50%         200.000000\n",
      "75%         226.000000\n",
      "max         983.000000\n",
      "Name: context_length, dtype: float64\n",
      "\n",
      "Number of unusually short questions (<3 words): 0\n",
      "Number of unusually long questions (>99th percentile): 1902\n",
      "\n",
      "Sample of unusually long questions:\n",
      "45      Is delayed duodenal stump blow-out following t...\n",
      "132     Is initial combination therapy with metformin ...\n",
      "221     Is low percentage of free prostate-specific an...\n",
      "657     Are high levels of serum vitamin D associated ...\n",
      "1065    Are verbal memory and search speed in early mi...\n",
      "Name: question, dtype: object\n"
     ]
    }
   ],
   "source": [
    "# Calculate lengths\n",
    "evaluation_df['question_length'] = evaluation_df['question'].apply(lambda x: len(x.split()))\n",
    "evaluation_df['context_length'] = evaluation_df['context'].apply(lambda x: len(x.split()))\n",
    "\n",
    "# Describe the lengths\n",
    "print(\"\\nQuestion Length Statistics:\")\n",
    "print(evaluation_df['question_length'].describe())\n",
    "\n",
    "print(\"\\nContext Length Statistics:\")\n",
    "print(evaluation_df['context_length'].describe())\n",
    "\n",
    "# Identify unusually long or short questions\n",
    "short_questions = evaluation_df[evaluation_df['question_length'] < 3]\n",
    "long_questions = evaluation_df[evaluation_df['question_length'] > evaluation_df['question_length'].quantile(0.99)]\n",
    "\n",
    "print(f\"\\nNumber of unusually short questions (<3 words): {len(short_questions)}\")\n",
    "print(f\"Number of unusually long questions (>99th percentile): {len(long_questions)}\")\n",
    "\n",
    "# Sample of short and long questions\n",
    "if not short_questions.empty:\n",
    "    print(\"\\nSample of unusually short questions:\")\n",
    "    print(short_questions['question'].head())\n",
    "\n",
    "if not long_questions.empty:\n",
    "    print(\"\\nSample of unusually long questions:\")\n",
    "    print(long_questions['question'].head())"
   ]
  },
  {
   "cell_type": "markdown",
   "metadata": {
    "id": "c3oHT47B-Bso"
   },
   "source": [
    "### Topic modeling"
   ]
  },
  {
   "cell_type": "code",
   "execution_count": 8,
   "metadata": {},
   "outputs": [
    {
     "data": {
      "text/html": [
       "<div>\n",
       "<style scoped>\n",
       "    .dataframe tbody tr th:only-of-type {\n",
       "        vertical-align: middle;\n",
       "    }\n",
       "\n",
       "    .dataframe tbody tr th {\n",
       "        vertical-align: top;\n",
       "    }\n",
       "\n",
       "    .dataframe thead th {\n",
       "        text-align: right;\n",
       "    }\n",
       "</style>\n",
       "<table border=\"1\" class=\"dataframe\">\n",
       "  <thead>\n",
       "    <tr style=\"text-align: right;\">\n",
       "      <th></th>\n",
       "      <th>question</th>\n",
       "      <th>context</th>\n",
       "      <th>answer</th>\n",
       "      <th>meshes</th>\n",
       "      <th>question_length</th>\n",
       "      <th>context_length</th>\n",
       "    </tr>\n",
       "  </thead>\n",
       "  <tbody>\n",
       "    <tr>\n",
       "      <th>0</th>\n",
       "      <td>Are group 2 innate lymphoid cells ( ILC2s ) in...</td>\n",
       "      <td>Chronic rhinosinusitis (CRS) is a heterogeneou...</td>\n",
       "      <td>As ILC2s are elevated in patients with CRSwNP,...</td>\n",
       "      <td>[Adult, Aged, Antigens, Surface, Case-Control ...</td>\n",
       "      <td>18</td>\n",
       "      <td>266</td>\n",
       "    </tr>\n",
       "    <tr>\n",
       "      <th>1</th>\n",
       "      <td>Does vagus nerve contribute to the development...</td>\n",
       "      <td>Phosphatidylethanolamine N-methyltransferase (...</td>\n",
       "      <td>Neuronal signals via the hepatic vagus nerve c...</td>\n",
       "      <td>[Animals, Chemokine CCL2, Diet, High-Fat, Dise...</td>\n",
       "      <td>16</td>\n",
       "      <td>216</td>\n",
       "    </tr>\n",
       "    <tr>\n",
       "      <th>2</th>\n",
       "      <td>Does psammaplin A induce Sirtuin 1-dependent a...</td>\n",
       "      <td>Psammaplin A (PsA) is a natural product isolat...</td>\n",
       "      <td>PsA significantly inhibited MCF-7/adr cells pr...</td>\n",
       "      <td>[Acetylation, Animals, Antibiotics, Antineopla...</td>\n",
       "      <td>18</td>\n",
       "      <td>82</td>\n",
       "    </tr>\n",
       "    <tr>\n",
       "      <th>3</th>\n",
       "      <td>Is methylation of the FGFR2 gene associated wi...</td>\n",
       "      <td>This study examined links between DNA methylat...</td>\n",
       "      <td>We identified a novel biologically plausible c...</td>\n",
       "      <td>[]</td>\n",
       "      <td>14</td>\n",
       "      <td>113</td>\n",
       "    </tr>\n",
       "    <tr>\n",
       "      <th>4</th>\n",
       "      <td>Do tumor-infiltrating immune cell profiles and...</td>\n",
       "      <td>Tumor microenvironment immunity is associated ...</td>\n",
       "      <td>Breast cancer immune cell subpopulation profil...</td>\n",
       "      <td>[Adult, Aged, Anthracyclines, Antibodies, Mono...</td>\n",
       "      <td>18</td>\n",
       "      <td>185</td>\n",
       "    </tr>\n",
       "  </tbody>\n",
       "</table>\n",
       "</div>"
      ],
      "text/plain": [
       "                                            question  \\\n",
       "0  Are group 2 innate lymphoid cells ( ILC2s ) in...   \n",
       "1  Does vagus nerve contribute to the development...   \n",
       "2  Does psammaplin A induce Sirtuin 1-dependent a...   \n",
       "3  Is methylation of the FGFR2 gene associated wi...   \n",
       "4  Do tumor-infiltrating immune cell profiles and...   \n",
       "\n",
       "                                             context  \\\n",
       "0  Chronic rhinosinusitis (CRS) is a heterogeneou...   \n",
       "1  Phosphatidylethanolamine N-methyltransferase (...   \n",
       "2  Psammaplin A (PsA) is a natural product isolat...   \n",
       "3  This study examined links between DNA methylat...   \n",
       "4  Tumor microenvironment immunity is associated ...   \n",
       "\n",
       "                                              answer  \\\n",
       "0  As ILC2s are elevated in patients with CRSwNP,...   \n",
       "1  Neuronal signals via the hepatic vagus nerve c...   \n",
       "2  PsA significantly inhibited MCF-7/adr cells pr...   \n",
       "3  We identified a novel biologically plausible c...   \n",
       "4  Breast cancer immune cell subpopulation profil...   \n",
       "\n",
       "                                              meshes  question_length  \\\n",
       "0  [Adult, Aged, Antigens, Surface, Case-Control ...               18   \n",
       "1  [Animals, Chemokine CCL2, Diet, High-Fat, Dise...               16   \n",
       "2  [Acetylation, Animals, Antibiotics, Antineopla...               18   \n",
       "3                                                 []               14   \n",
       "4  [Adult, Aged, Anthracyclines, Antibodies, Mono...               18   \n",
       "\n",
       "   context_length  \n",
       "0             266  \n",
       "1             216  \n",
       "2              82  \n",
       "3             113  \n",
       "4             185  "
      ]
     },
     "execution_count": 8,
     "metadata": {},
     "output_type": "execute_result"
    }
   ],
   "source": [
    "evaluation_df.head()"
   ]
  },
  {
   "cell_type": "code",
   "execution_count": 9,
   "metadata": {
    "id": "QZOTrwE54R-n"
   },
   "outputs": [],
   "source": [
    "# Get unique meshes lists as tuples for compatibility with dictionary keys\n",
    "unique_meshes = evaluation_df['meshes'].apply(tuple).unique()\n",
    "\n",
    "# Preprocessing step to flatten, clean, and filter stop words in meshes terms\n",
    "stop_words = set(stopwords.words('english'))\n",
    "\n",
    "# Flatten all terms from meshes and compute most common words to expand stopwords\n",
    "all_mesh_terms = [term for terms_list in unique_meshes for term in terms_list]\n",
    "mesh_counts = Counter(all_mesh_terms)\n",
    "most_common_words = [word for word, count in mesh_counts.most_common(100)]\n",
    "stop_words.update(most_common_words)\n",
    "\n",
    "# Filter out stop words from each mesh list\n",
    "filtered_meshes = [[term for term in terms_list if term not in stop_words] for terms_list in unique_meshes]\n",
    "\n",
    "# Bigram and trigram models\n",
    "bigram = Phrases(filtered_meshes, min_count=3, threshold=50)\n",
    "trigram = Phrases(bigram[filtered_meshes], min_count=3, threshold=50)\n",
    "bigram_mod = Phraser(bigram)\n",
    "trigram_mod = Phraser(trigram)\n",
    "\n",
    "# Final tokenized texts with bigrams and trigrams applied\n",
    "texts = [trigram_mod[bigram_mod[terms_list]] for terms_list in filtered_meshes]\n",
    "\n",
    "# Create Dictionary and Corpus\n",
    "dictionary = Dictionary(texts)\n",
    "dictionary.filter_extremes(no_below=10, no_above=0.1)\n",
    "corpus = [dictionary.doc2bow(text) for text in texts]"
   ]
  },
  {
   "cell_type": "code",
   "execution_count": 10,
   "metadata": {
    "colab": {
     "base_uri": "https://localhost:8080/",
     "height": 1000
    },
    "id": "0zFgLoFB4R-o",
    "outputId": "dd5f2d3f-1614-404f-be2b-a7b566eb6a2a"
   },
   "outputs": [
    {
     "name": "stdout",
     "output_type": "stream",
     "text": [
      "\n",
      "HDP Topics:\n",
      "Topic #0:\n",
      "['Transfection', 'Promoter Regions, Genetic', 'Lung Neoplasms', 'Tumor Cells, Cultured', 'Gene Expression Profiling', 'Endothelial Cells', 'Real-Time Polymerase Chain Reaction', 'MicroRNAs', 'In Vitro Techniques', 'NF-kappa B', 'Reactive Oxygen Species', 'Carcinoma, Squamous Cell', 'Sex Factors', 'Stroke', 'Mice, Transgenic', 'Enzyme Inhibitors', 'Random Allocation', 'Mice, Nude', 'Chi-Square Distribution', 'Longitudinal Studies']\n",
      "Topic #1:\n",
      "['Transfection', 'Sex Factors', 'MicroRNAs', 'Reference Values', 'Gene Expression Profiling', 'Real-Time Polymerase Chain Reaction', 'Liver Neoplasms', 'Macrophages', 'Heart Rate', 'Enzyme Inhibitors', 'Chronic Disease', 'RNA, Small Interfering', 'Lung Neoplasms', 'Rabbits', 'Promoter Regions, Genetic', 'Tumor Cells, Cultured', 'In Vitro Techniques', 'Longitudinal Studies', 'Mice, Transgenic', 'Random Allocation']\n",
      "Topic #2:\n",
      "['Carcinoma, Hepatocellular', 'Enzyme Inhibitors', 'Liver Neoplasms', 'Sex Factors', 'Transfection', 'Regression Analysis', 'Rabbits', 'Body Weight', 'Gene Expression Profiling', 'Longitudinal Studies', 'Chronic Disease', 'In Vitro Techniques', 'Cardiovascular Diseases', 'Heart Rate', 'Linear Models', 'Real-Time Polymerase Chain Reaction', 'Alleles', 'Random Allocation', 'Polymorphism, Genetic', 'United States']\n",
      "Topic #3:\n",
      "['Molecular Sequence Data', 'Transfection', 'Gene Expression Profiling', 'Membrane Proteins', 'Sex Factors', 'Promoter Regions, Genetic', 'Longitudinal Studies', 'Hypertension', 'Regression Analysis', 'United States', 'Random Allocation', 'Cardiovascular Diseases', 'Linear Models', 'Hemodynamics', 'Chronic Disease', 'Statistics, Nonparametric', 'MicroRNAs', 'Heart Rate', 'In Vitro Techniques', 'Polymorphism, Genetic']\n",
      "Topic #4:\n",
      "['Transfection', 'Reference Values', 'Real-Time Polymerase Chain Reaction', 'Sex Factors', 'Hypertension', 'In Vitro Techniques', 'Gene Expression Profiling', 'Mice, Transgenic', 'Regression Analysis', 'Membrane Proteins', 'Disease-Free Survival', 'Epithelial Cells', 'Tumor Cells, Cultured', 'Promoter Regions, Genetic', 'Heart Rate', 'Lung Neoplasms', 'Polymorphism, Genetic', 'Longitudinal Studies', 'Molecular Sequence Data', 'Enzyme Activation']\n",
      "Topic #5:\n",
      "['Gene Expression Profiling', 'Transfection', 'Lung Neoplasms', 'Random Allocation', 'MicroRNAs', 'Reactive Oxygen Species', 'Adenocarcinoma', 'Real-Time Polymerase Chain Reaction', 'Heart Rate', 'Sex Factors', 'Colorectal Neoplasms', 'Mice, Transgenic', 'C-Reactive Protein', 'Longitudinal Studies', 'Macrophages', 'Aging', 'Promoter Regions, Genetic', 'Hypertension', 'Disease-Free Survival', 'In Vitro Techniques']\n",
      "Topic #6:\n",
      "['Gene Expression Profiling', 'Transfection', 'Sex Factors', 'Mice, Transgenic', 'NF-kappa B', 'Regression Analysis', 'In Vitro Techniques', 'Tumor Cells, Cultured', 'Chronic Disease', 'Interleukin-6', 'Epithelial Cells', 'Longitudinal Studies', 'Macrophages', 'Disease-Free Survival', 'Endothelial Cells', 'Aging', 'Real-Time Polymerase Chain Reaction', 'Promoter Regions, Genetic', 'Lung Neoplasms', 'Body Weight']\n",
      "Topic #7:\n",
      "['Transfection', 'Sex Factors', 'Polymorphism, Genetic', 'In Vitro Techniques', 'Real-Time Polymerase Chain Reaction', 'Promoter Regions, Genetic', 'Longitudinal Studies', 'Enzyme Inhibitors', 'Mice, Transgenic', 'Gene Expression Profiling', 'Regression Analysis', 'Molecular Sequence Data', 'Liver Neoplasms', 'Heart Rate', 'Random Allocation', 'United States', 'MicroRNAs', 'Chronic Disease', 'Reference Values', 'Rabbits']\n",
      "Topic #8:\n",
      "['Liver Neoplasms', 'United States', 'Transfection', 'Promoter Regions, Genetic', 'Chi-Square Distribution', 'Gene Expression Profiling', 'Sex Factors', 'Lung Neoplasms', 'Random Allocation', 'Recombinant Proteins', 'Disease-Free Survival', 'Membrane Proteins', 'NF-kappa B', 'Comorbidity', 'Heart Rate', 'Neoplasm Recurrence, Local', 'Longitudinal Studies', 'Real-Time Polymerase Chain Reaction', 'Regression Analysis', 'Rabbits']\n",
      "Topic #9:\n",
      "['Transfection', 'Tomography, X-Ray Computed', 'Sex Factors', 'In Vitro Techniques', 'Lung Neoplasms', 'Gene Expression Profiling', 'Polymorphism, Genetic', 'Enzyme Inhibitors', 'Tumor Cells, Cultured', 'Adenocarcinoma', 'United States', 'Chronic Disease', 'MicroRNAs', 'Disease-Free Survival', 'Heart Rate', 'Hypertension', 'Regression Analysis', 'Longitudinal Studies', 'Real-Time Polymerase Chain Reaction', 'Promoter Regions, Genetic']\n",
      "Topic #10:\n",
      "['Transfection', 'MicroRNAs', 'Disease-Free Survival', 'Promoter Regions, Genetic', 'Membrane Proteins', 'Lung Neoplasms', 'Sex Factors', 'Mice, Transgenic', 'Random Allocation', 'Gene Expression Profiling', 'Real-Time Polymerase Chain Reaction', 'Reactive Oxygen Species', 'Polymorphism, Genetic', 'Enzyme Inhibitors', 'Epithelial Cells', 'Hypertension', 'In Vitro Techniques', 'Endothelial Cells', 'Linear Models', 'Adenocarcinoma']\n",
      "Topic #11:\n",
      "['Transfection', 'Disease-Free Survival', 'Gene Expression Profiling', 'Lung Neoplasms', 'MicroRNAs', 'Real-Time Polymerase Chain Reaction', 'Promoter Regions, Genetic', 'Adenocarcinoma', 'Tumor Cells, Cultured', 'Sex Factors', 'Liver Neoplasms', 'RNA, Small Interfering', 'Random Allocation', 'Molecular Sequence Data', 'Carcinoma, Squamous Cell', 'Membrane Proteins', 'Neoplasm Recurrence, Local', 'NF-kappa B', 'Hypertension', 'Polymorphism, Genetic']\n",
      "Topic #12:\n",
      "['Transfection', 'In Vitro Techniques', 'Sex Factors', 'Random Allocation', 'Regression Analysis', 'Heart Rate', 'Motor Activity', 'Polymorphism, Genetic', 'Promoter Regions, Genetic', 'Real-Time Polymerase Chain Reaction', 'Swine', 'Rabbits', 'Longitudinal Studies', 'Gene Expression Profiling', 'United States', 'Cardiovascular Diseases', 'Chronic Disease', 'Mice, Transgenic', 'Adenocarcinoma', 'Hypertension']\n",
      "Topic #13:\n",
      "['Transfection', 'Sex Factors', 'Promoter Regions, Genetic', 'Hypertension', 'Regression Analysis', 'Gene Expression Profiling', 'Real-Time Polymerase Chain Reaction', 'Antioxidants', 'Mice, Transgenic', 'Disease-Free Survival', 'Polymorphism, Genetic', 'Tomography, X-Ray Computed', 'United States', 'NF-kappa B', 'Longitudinal Studies', 'In Vitro Techniques', 'Chi-Square Distribution', 'Random Allocation', 'Membrane Proteins', 'Stroke']\n",
      "Topic #14:\n",
      "['Transfection', 'Macrophages', 'Molecular Sequence Data', 'MicroRNAs', 'Heart Rate', 'Gene Expression Profiling', 'Real-Time Polymerase Chain Reaction', 'United States', 'Membrane Proteins', 'Sex Factors', 'In Vitro Techniques', 'Reactive Oxygen Species', 'Longitudinal Studies', 'Tumor Cells, Cultured', 'Enzyme Inhibitors', 'Promoter Regions, Genetic', 'Lung Neoplasms', 'Regression Analysis', 'Mice, Transgenic', 'Random Allocation']\n",
      "Topic #15:\n",
      "['Sex Factors', 'Regression Analysis', 'Transfection', 'Longitudinal Studies', 'Reference Values', 'Lung Neoplasms', 'Polymorphism, Genetic', 'United States', 'Chronic Disease', 'NF-kappa B', 'Random Allocation', 'Gene Expression Profiling', 'Insulin Resistance', 'Hypertension', 'ROC Curve', 'Real-Time Polymerase Chain Reaction', 'In Vitro Techniques', 'Membrane Proteins', 'Mice, Transgenic', 'Reactive Oxygen Species']\n",
      "Topic #16:\n",
      "['Sex Factors', 'Longitudinal Studies', 'Random Allocation', 'Gene Expression Profiling', 'Transfection', 'Real-Time Polymerase Chain Reaction', 'In Vitro Techniques', 'Lung Neoplasms', 'Reference Values', 'Mice, Transgenic', 'C-Reactive Protein', 'Hypertension', 'Tomography, X-Ray Computed', 'Chi-Square Distribution', 'Macrophages', 'Statistics, Nonparametric', 'Reactive Oxygen Species', 'Chronic Disease', 'Rabbits', 'Regression Analysis']\n",
      "Topic #17:\n",
      "['Aging', 'Sex Factors', 'Regression Analysis', 'Myocardial Infarction', 'Swine', 'Reference Values', 'Random Allocation', 'Transfection', 'Chronic Disease', 'Gene Expression Profiling', 'Longitudinal Studies', 'Hemodynamics', 'Tomography, X-Ray Computed', 'Real-Time Polymerase Chain Reaction', 'In Vitro Techniques', 'Hypertension', 'Heart Failure', 'United States', 'Comorbidity', 'Disease-Free Survival']\n",
      "Topic #18:\n",
      "['Transfection', 'Macrophages', 'In Vitro Techniques', 'Gene Expression Profiling', 'Chronic Disease', 'Random Allocation', 'Real-Time Polymerase Chain Reaction', 'Lung', 'Lung Neoplasms', 'Sex Factors', 'Reference Values', 'Membrane Proteins', 'NF-kappa B', 'MicroRNAs', 'Regression Analysis', 'Tumor Cells, Cultured', 'Promoter Regions, Genetic', 'Longitudinal Studies', 'Mice, Transgenic', 'Enzyme Inhibitors']\n",
      "Topic #19:\n",
      "['Regression Analysis', 'Transfection', 'Gene Expression Profiling', 'Reference Values', 'MicroRNAs', 'Sex Factors', 'Polymorphism, Genetic', 'In Vitro Techniques', 'Chronic Disease', 'Longitudinal Studies', 'Random Allocation', 'Hemodynamics', 'Lung', 'Reactive Oxygen Species', 'Endothelial Cells', 'Chi-Square Distribution', 'Real-Time Polymerase Chain Reaction', 'Promoter Regions, Genetic', 'Tomography, X-Ray Computed', 'Enzyme Inhibitors']\n",
      "\n",
      "HDP Model Coherence Score: 0.1632\n"
     ]
    },
    {
     "data": {
      "image/png": "[encoded data removed]",
      "text/plain": [
       "<Figure size 1000x700 with 1 Axes>"
      ]
     },
     "metadata": {},
     "output_type": "display_data"
    }
   ],
   "source": [
    "# ---------------- HDP Modeling ----------------\n",
    "hdp_model = HdpModel(corpus=corpus, id2word=dictionary)\n",
    "hdp_topics = hdp_model.show_topics(formatted=False)\n",
    "\n",
    "print(\"\\nHDP Topics:\")\n",
    "for idx, topic in enumerate(hdp_topics):\n",
    "    print(f\"Topic #{idx}:\")\n",
    "    print([word for word, prob in topic[1]])\n",
    "\n",
    "# Compute HDP Coherence Score\n",
    "coherence_model_hdp = CoherenceModel(model=hdp_model, texts=texts, dictionary=dictionary, coherence='c_v')\n",
    "coherence_score_hdp = coherence_model_hdp.get_coherence()\n",
    "print(f\"\\nHDP Model Coherence Score: {coherence_score_hdp:.4f}\")\n",
    "\n",
    "# Assign HDP Topics to Mesh Lists with error handling for empty topic distributions\n",
    "def get_dominant_topic_hdp(hdp_model, bow):\n",
    "    topic_dist = hdp_model[bow]\n",
    "    if topic_dist:  # Ensure topic_dist is not empty\n",
    "        dominant_topic = max(topic_dist, key=lambda x: x[1])[0]\n",
    "    else:\n",
    "        dominant_topic = None  # Set to None or a default value if no topics are found\n",
    "    return dominant_topic\n",
    "\n",
    "# Map topics back to the evaluation_df DataFrame, using tuples for consistent keys\n",
    "mesh_to_topic_hdp = {}\n",
    "for mesh_list, bow in zip(unique_meshes, corpus):\n",
    "    dominant_topic = get_dominant_topic_hdp(hdp_model, bow)\n",
    "    mesh_to_topic_hdp[mesh_list] = dominant_topic\n",
    "\n",
    "evaluation_df['topic_hdp'] = evaluation_df['meshes'].apply(lambda x: mesh_to_topic_hdp.get(tuple(x), -1))\n",
    "\n",
    "# Hierarchical Clustering for HDP Topics\n",
    "hdp_topic_word_distributions = hdp_model.get_topics()\n",
    "similarity_matrix_hdp = cosine_similarity(hdp_topic_word_distributions)\n",
    "distance_matrix_hdp = 1 - similarity_matrix_hdp\n",
    "linked_hdp = linkage(distance_matrix_hdp, 'ward')\n",
    "\n",
    "plt.figure(figsize=(10, 7))\n",
    "dendrogram(linked_hdp, orientation='top', distance_sort='descending', show_leaf_counts=True)\n",
    "plt.title('Hierarchical Clustering Dendrogram of HDP Topics in PubMedQA Dataset')\n",
    "plt.xlabel('Topic Index')\n",
    "plt.ylabel('Distance')\n",
    "plt.show()\n",
    "\n",
    "# Define clusters based on dendrogram analysis\n",
    "num_clusters_hdp = 6  # Adjusted based on dendrogram\n",
    "cluster_labels_hdp = fcluster(linked_hdp, num_clusters_hdp, criterion='maxclust')\n",
    "topic_to_category_hdp = {topic_idx: cluster_label for topic_idx, cluster_label in enumerate(cluster_labels_hdp)}\n",
    "evaluation_df['category_hdp'] = evaluation_df['topic_hdp'].map(topic_to_category_hdp)"
   ]
  },
  {
   "cell_type": "code",
   "execution_count": 11,
   "metadata": {
    "colab": {
     "base_uri": "https://localhost:8080/",
     "height": 970
    },
    "id": "SwouP1bO4R-o",
    "outputId": "9cedfc65-c9e5-4c93-99fe-4193e1ef2dd8"
   },
   "outputs": [
    {
     "name": "stdout",
     "output_type": "stream",
     "text": [
      "Number of Topics: 2, Coherence Score: 0.4107\n",
      "Number of Topics: 4, Coherence Score: 0.2000\n",
      "Number of Topics: 6, Coherence Score: 0.2261\n",
      "Number of Topics: 8, Coherence Score: 0.2719\n",
      "Number of Topics: 10, Coherence Score: 0.2381\n",
      "Number of Topics: 12, Coherence Score: 0.2409\n",
      "Number of Topics: 14, Coherence Score: 0.2855\n",
      "Number of Topics: 16, Coherence Score: 0.3599\n",
      "Number of Topics: 18, Coherence Score: 0.3684\n",
      "Number of Topics: 20, Coherence Score: 0.3467\n"
     ]
    },
    {
     "data": {
      "image/png": "[encoded data removed]",
      "text/plain": [
       "<Figure size 1000x600 with 1 Axes>"
      ]
     },
     "metadata": {},
     "output_type": "display_data"
    },
    {
     "name": "stdout",
     "output_type": "stream",
     "text": [
      "\n",
      "Optimal Number of Topics for LDA: 2\n",
      "\n",
      "LDA Topics:\n",
      "Topic #0:\n",
      "['Tumor Cells, Cultured', 'Enzyme Inhibitors', 'Transfection', 'Promoter Regions, Genetic', 'In Vitro Techniques', 'Alleles', 'Adenocarcinoma', 'Gene Expression Profiling', 'Mice, Transgenic', 'Disease-Free Survival']\n",
      "Topic #1:\n",
      "['Sex Factors', 'Heart Rate', 'Regression Analysis', 'Reference Values', 'Hypertension', 'Longitudinal Studies', 'Hemodynamics', 'Chronic Disease', 'Linear Models', 'C-Reactive Protein']\n"
     ]
    }
   ],
   "source": [
    "# ---------------- LDA Modeling ----------------\n",
    "# Find Optimal Number of Topics\n",
    "min_topics = 2\n",
    "max_topics = 20\n",
    "step = 2\n",
    "coherence_scores = []\n",
    "\n",
    "for num_topics in range(min_topics, max_topics + 1, step):\n",
    "    lda_model_temp = LdaModel(\n",
    "        corpus=corpus,\n",
    "        id2word=dictionary,\n",
    "        num_topics=num_topics,\n",
    "        random_state=100,\n",
    "        update_every=1,\n",
    "        chunksize=100,\n",
    "        passes=10,\n",
    "        alpha='auto',\n",
    "        per_word_topics=True\n",
    "    )\n",
    "    coherence_model = CoherenceModel(model=lda_model_temp, texts=texts, dictionary=dictionary, coherence='c_v')\n",
    "    coherence_score = coherence_model.get_coherence()\n",
    "    coherence_scores.append(coherence_score)\n",
    "    print(f'Number of Topics: {num_topics}, Coherence Score: {coherence_score:.4f}')\n",
    "\n",
    "# Plot Coherence Scores\n",
    "plt.figure(figsize=(10,6))\n",
    "plt.plot(range(min_topics, max_topics + 1, step), coherence_scores, marker='o')\n",
    "plt.title('Coherence Scores by Number of Topics (LDA)')\n",
    "plt.xlabel('Number of Topics')\n",
    "plt.ylabel('Coherence Score')\n",
    "plt.xticks(range(min_topics, max_topics + 1, step))\n",
    "plt.grid(True)\n",
    "plt.show()\n",
    "\n",
    "# Select optimal number of Topics\n",
    "optimal_index = coherence_scores.index(max(coherence_scores))\n",
    "num_topics_optimal = min_topics + optimal_index * step\n",
    "print(f'\\nOptimal Number of Topics for LDA: {num_topics_optimal}')\n",
    "\n",
    "# Train the final LDA model with the optimal number of topics\n",
    "lda_model = LdaModel(\n",
    "    corpus=corpus,\n",
    "    id2word=dictionary,\n",
    "    num_topics=num_topics_optimal,\n",
    "    random_state=100,\n",
    "    update_every=1,\n",
    "    chunksize=100,\n",
    "    passes=10,\n",
    "    alpha='auto',\n",
    "    per_word_topics=True\n",
    ")\n",
    "\n",
    "# Display topics from the LDA model\n",
    "print(\"\\nLDA Topics:\")\n",
    "lda_topics = lda_model.show_topics(formatted=False)\n",
    "for idx, topic in enumerate(lda_topics):\n",
    "    print(f\"Topic #{idx}:\")\n",
    "    print([word for word, prob in topic[1]])"
   ]
  },
  {
   "cell_type": "code",
   "execution_count": 13,
   "metadata": {
    "colab": {
     "base_uri": "https://localhost:8080/"
    },
    "id": "y3o779X0L88m",
    "outputId": "b273db0a-5aa5-4210-9def-3443fd97fbec",
    "scrolled": true
   },
   "outputs": [
    {
     "name": "stdout",
     "output_type": "stream",
     "text": [
      "\n",
      "LDA Topics:\n",
      "Topic #0:\n",
      "['Tumor Cells, Cultured', 'Enzyme Inhibitors', 'Transfection', 'Promoter Regions, Genetic', 'In Vitro Techniques', 'Alleles', 'Adenocarcinoma', 'Gene Expression Profiling', 'Mice, Transgenic', 'Disease-Free Survival']\n",
      "Topic #1:\n",
      "['Sex Factors', 'Heart Rate', 'Regression Analysis', 'Reference Values', 'Hypertension', 'Longitudinal Studies', 'Hemodynamics', 'Chronic Disease', 'Linear Models', 'C-Reactive Protein']\n",
      "\n",
      "LDA Model Coherence Score: 0.4107\n"
     ]
    },
    {
     "ename": "KeyError",
     "evalue": "'mashes'",
     "output_type": "error",
     "traceback": [
      "\u001b[1;31m---------------------------------------------------------------------------\u001b[0m",
      "\u001b[1;31mKeyError\u001b[0m                                  Traceback (most recent call last)",
      "File \u001b[1;32m~\\Documents\\Training\\VS Code\\Master-Arbeit\\master-thesis\\venv\\Lib\\site-packages\\pandas\\core\\indexes\\base.py:3805\u001b[0m, in \u001b[0;36mIndex.get_loc\u001b[1;34m(self, key)\u001b[0m\n\u001b[0;32m   3804\u001b[0m \u001b[38;5;28;01mtry\u001b[39;00m:\n\u001b[1;32m-> 3805\u001b[0m     \u001b[38;5;28;01mreturn\u001b[39;00m \u001b[38;5;28;43mself\u001b[39;49m\u001b[38;5;241;43m.\u001b[39;49m\u001b[43m_engine\u001b[49m\u001b[38;5;241;43m.\u001b[39;49m\u001b[43mget_loc\u001b[49m\u001b[43m(\u001b[49m\u001b[43mcasted_key\u001b[49m\u001b[43m)\u001b[49m\n\u001b[0;32m   3806\u001b[0m \u001b[38;5;28;01mexcept\u001b[39;00m \u001b[38;5;167;01mKeyError\u001b[39;00m \u001b[38;5;28;01mas\u001b[39;00m err:\n",
      "File \u001b[1;32mindex.pyx:167\u001b[0m, in \u001b[0;36mpandas._libs.index.IndexEngine.get_loc\u001b[1;34m()\u001b[0m\n",
      "File \u001b[1;32mindex.pyx:196\u001b[0m, in \u001b[0;36mpandas._libs.index.IndexEngine.get_loc\u001b[1;34m()\u001b[0m\n",
      "File \u001b[1;32mpandas\\\\_libs\\\\hashtable_class_helper.pxi:7081\u001b[0m, in \u001b[0;36mpandas._libs.hashtable.PyObjectHashTable.get_item\u001b[1;34m()\u001b[0m\n",
      "File \u001b[1;32mpandas\\\\_libs\\\\hashtable_class_helper.pxi:7089\u001b[0m, in \u001b[0;36mpandas._libs.hashtable.PyObjectHashTable.get_item\u001b[1;34m()\u001b[0m\n",
      "\u001b[1;31mKeyError\u001b[0m: 'mashes'",
      "\nThe above exception was the direct cause of the following exception:\n",
      "\u001b[1;31mKeyError\u001b[0m                                  Traceback (most recent call last)",
      "Cell \u001b[1;32mIn[13], line 41\u001b[0m\n\u001b[0;32m     38\u001b[0m     dominant_topic \u001b[38;5;241m=\u001b[39m get_dominant_topic_lda(lda_model, bow)\n\u001b[0;32m     39\u001b[0m     context_to_topic_lda[context] \u001b[38;5;241m=\u001b[39m dominant_topic\n\u001b[1;32m---> 41\u001b[0m evaluation_df[\u001b[38;5;124m'\u001b[39m\u001b[38;5;124mtopic_lda\u001b[39m\u001b[38;5;124m'\u001b[39m] \u001b[38;5;241m=\u001b[39m \u001b[43mevaluation_df\u001b[49m\u001b[43m[\u001b[49m\u001b[38;5;124;43m'\u001b[39;49m\u001b[38;5;124;43mmashes\u001b[39;49m\u001b[38;5;124;43m'\u001b[39;49m\u001b[43m]\u001b[49m\u001b[38;5;241m.\u001b[39mmap(context_to_topic_lda)\n",
      "File \u001b[1;32m~\\Documents\\Training\\VS Code\\Master-Arbeit\\master-thesis\\venv\\Lib\\site-packages\\pandas\\core\\frame.py:4102\u001b[0m, in \u001b[0;36mDataFrame.__getitem__\u001b[1;34m(self, key)\u001b[0m\n\u001b[0;32m   4100\u001b[0m \u001b[38;5;28;01mif\u001b[39;00m \u001b[38;5;28mself\u001b[39m\u001b[38;5;241m.\u001b[39mcolumns\u001b[38;5;241m.\u001b[39mnlevels \u001b[38;5;241m>\u001b[39m \u001b[38;5;241m1\u001b[39m:\n\u001b[0;32m   4101\u001b[0m     \u001b[38;5;28;01mreturn\u001b[39;00m \u001b[38;5;28mself\u001b[39m\u001b[38;5;241m.\u001b[39m_getitem_multilevel(key)\n\u001b[1;32m-> 4102\u001b[0m indexer \u001b[38;5;241m=\u001b[39m \u001b[38;5;28;43mself\u001b[39;49m\u001b[38;5;241;43m.\u001b[39;49m\u001b[43mcolumns\u001b[49m\u001b[38;5;241;43m.\u001b[39;49m\u001b[43mget_loc\u001b[49m\u001b[43m(\u001b[49m\u001b[43mkey\u001b[49m\u001b[43m)\u001b[49m\n\u001b[0;32m   4103\u001b[0m \u001b[38;5;28;01mif\u001b[39;00m is_integer(indexer):\n\u001b[0;32m   4104\u001b[0m     indexer \u001b[38;5;241m=\u001b[39m [indexer]\n",
      "File \u001b[1;32m~\\Documents\\Training\\VS Code\\Master-Arbeit\\master-thesis\\venv\\Lib\\site-packages\\pandas\\core\\indexes\\base.py:3812\u001b[0m, in \u001b[0;36mIndex.get_loc\u001b[1;34m(self, key)\u001b[0m\n\u001b[0;32m   3807\u001b[0m     \u001b[38;5;28;01mif\u001b[39;00m \u001b[38;5;28misinstance\u001b[39m(casted_key, \u001b[38;5;28mslice\u001b[39m) \u001b[38;5;129;01mor\u001b[39;00m (\n\u001b[0;32m   3808\u001b[0m         \u001b[38;5;28misinstance\u001b[39m(casted_key, abc\u001b[38;5;241m.\u001b[39mIterable)\n\u001b[0;32m   3809\u001b[0m         \u001b[38;5;129;01mand\u001b[39;00m \u001b[38;5;28many\u001b[39m(\u001b[38;5;28misinstance\u001b[39m(x, \u001b[38;5;28mslice\u001b[39m) \u001b[38;5;28;01mfor\u001b[39;00m x \u001b[38;5;129;01min\u001b[39;00m casted_key)\n\u001b[0;32m   3810\u001b[0m     ):\n\u001b[0;32m   3811\u001b[0m         \u001b[38;5;28;01mraise\u001b[39;00m InvalidIndexError(key)\n\u001b[1;32m-> 3812\u001b[0m     \u001b[38;5;28;01mraise\u001b[39;00m \u001b[38;5;167;01mKeyError\u001b[39;00m(key) \u001b[38;5;28;01mfrom\u001b[39;00m \u001b[38;5;21;01merr\u001b[39;00m\n\u001b[0;32m   3813\u001b[0m \u001b[38;5;28;01mexcept\u001b[39;00m \u001b[38;5;167;01mTypeError\u001b[39;00m:\n\u001b[0;32m   3814\u001b[0m     \u001b[38;5;66;03m# If we have a listlike key, _check_indexing_error will raise\u001b[39;00m\n\u001b[0;32m   3815\u001b[0m     \u001b[38;5;66;03m#  InvalidIndexError. Otherwise we fall through and re-raise\u001b[39;00m\n\u001b[0;32m   3816\u001b[0m     \u001b[38;5;66;03m#  the TypeError.\u001b[39;00m\n\u001b[0;32m   3817\u001b[0m     \u001b[38;5;28mself\u001b[39m\u001b[38;5;241m.\u001b[39m_check_indexing_error(key)\n",
      "\u001b[1;31mKeyError\u001b[0m: 'mashes'"
     ]
    }
   ],
   "source": [
    "# Train Final LDA Model\n",
    "lda_model = LdaModel(\n",
    "    corpus=corpus,\n",
    "    id2word=dictionary,\n",
    "    num_topics=2,\n",
    "    random_state=100,\n",
    "    update_every=1,\n",
    "    chunksize=100,\n",
    "    passes=10,\n",
    "    alpha='auto',\n",
    "    per_word_topics=True\n",
    ")\n",
    "\n",
    "# Extract LDA Topics\n",
    "lda_topics = lda_model.show_topics(formatted=False, num_words=10)\n",
    "\n",
    "print(\"\\nLDA Topics:\")\n",
    "for idx, topic in lda_topics:\n",
    "    print(f\"Topic #{idx}:\")\n",
    "    print([word for word, prob in topic])\n",
    "\n",
    "# Compute LDA Coherence Score\n",
    "coherence_model_lda = CoherenceModel(model=lda_model, texts=texts, dictionary=dictionary, coherence='c_v')\n",
    "coherence_score_lda = coherence_model_lda.get_coherence()\n",
    "print(f\"\\nLDA Model Coherence Score: {coherence_score_lda:.4f}\")\n",
    "\n",
    "# Assign LDA Topics to Contexts\n",
    "def get_dominant_topic_lda(lda_model, bow):\n",
    "    topic_dist = lda_model.get_document_topics(bow)\n",
    "    if topic_dist:\n",
    "        dominant_topic = max(topic_dist, key=lambda x: x[1])[0]\n",
    "    else:\n",
    "        dominant_topic = -1\n",
    "    return dominant_topic\n",
    "\n",
    "# Get dominant topic for dataset enrichment\n",
    "context_to_topic_lda = {}\n",
    "for context, bow in zip(unique_meshes, corpus):\n",
    "    dominant_topic = get_dominant_topic_lda(lda_model, bow)\n",
    "    context_to_topic_lda[context] = dominant_topic\n",
    "\n",
    "# Dataset enrichment\n",
    "evaluation_df['topic_lda'] = evaluation_df['meshes'].map(context_to_topic_lda)"
   ]
  },
  {
   "cell_type": "code",
   "execution_count": 42,
   "metadata": {},
   "outputs": [],
   "source": [
    "# Define the function to get the dominant topic\n",
    "def get_dominant_topic_lda(lda_model, text):\n",
    "    # Check if the input is a string (document)\n",
    "    if isinstance(text, str):\n",
    "        # Tokenize the string into words\n",
    "        tokens = text.split()\n",
    "    else:\n",
    "        # Assume the input is already a list of tokens\n",
    "        tokens = text\n",
    "    # Convert tokens to Bag-of-Words representation\n",
    "    bow = dictionary.doc2bow(tokens)\n",
    "    # Get topic distribution for the document\n",
    "    topic_dist = lda_model.get_document_topics(bow)\n",
    "    if topic_dist:\n",
    "        # Find the topic with the highest probability\n",
    "        dominant_topic = max(topic_dist, key=lambda x: x[1])[0]\n",
    "    else:\n",
    "        dominant_topic = -1  # Assign -1 if no topics are found\n",
    "    return dominant_topic\n",
    "\n",
    "# Apply the function directly to the 'meshes' column\n",
    "evaluation_df['topic_lda'] = evaluation_df['meshes'].apply(lambda x: get_dominant_topic_lda(lda_model, x))"
   ]
  },
  {
   "cell_type": "code",
   "execution_count": 43,
   "metadata": {},
   "outputs": [
    {
     "data": {
      "text/plain": [
       "topic_lda\n",
       "1    194079\n",
       "0     17114\n",
       "Name: count, dtype: int64"
      ]
     },
     "execution_count": 43,
     "metadata": {},
     "output_type": "execute_result"
    }
   ],
   "source": [
    "evaluation_df['topic_lda'].value_counts()"
   ]
  },
  {
   "cell_type": "code",
   "execution_count": 44,
   "metadata": {},
   "outputs": [
    {
     "data": {
      "text/html": [
       "<div>\n",
       "<style scoped>\n",
       "    .dataframe tbody tr th:only-of-type {\n",
       "        vertical-align: middle;\n",
       "    }\n",
       "\n",
       "    .dataframe tbody tr th {\n",
       "        vertical-align: top;\n",
       "    }\n",
       "\n",
       "    .dataframe thead th {\n",
       "        text-align: right;\n",
       "    }\n",
       "</style>\n",
       "<table border=\"1\" class=\"dataframe\">\n",
       "  <thead>\n",
       "    <tr style=\"text-align: right;\">\n",
       "      <th></th>\n",
       "      <th>question</th>\n",
       "      <th>context</th>\n",
       "      <th>answer</th>\n",
       "      <th>meshes</th>\n",
       "      <th>question_length</th>\n",
       "      <th>context_length</th>\n",
       "      <th>topic_hdp</th>\n",
       "      <th>category_hdp</th>\n",
       "      <th>topic_lda</th>\n",
       "    </tr>\n",
       "  </thead>\n",
       "  <tbody>\n",
       "    <tr>\n",
       "      <th>0</th>\n",
       "      <td>Are group 2 innate lymphoid cells ( ILC2s ) in...</td>\n",
       "      <td>Chronic rhinosinusitis (CRS) is a heterogeneou...</td>\n",
       "      <td>As ILC2s are elevated in patients with CRSwNP,...</td>\n",
       "      <td>['Adult' 'Aged' 'Antigens, Surface' 'Case-Cont...</td>\n",
       "      <td>18</td>\n",
       "      <td>266</td>\n",
       "      <td>42.0</td>\n",
       "      <td>1.0</td>\n",
       "      <td>1</td>\n",
       "    </tr>\n",
       "    <tr>\n",
       "      <th>1</th>\n",
       "      <td>Does vagus nerve contribute to the development...</td>\n",
       "      <td>Phosphatidylethanolamine N-methyltransferase (...</td>\n",
       "      <td>Neuronal signals via the hepatic vagus nerve c...</td>\n",
       "      <td>['Animals' 'Chemokine CCL2' 'Diet, High-Fat' '...</td>\n",
       "      <td>16</td>\n",
       "      <td>216</td>\n",
       "      <td>97.0</td>\n",
       "      <td>5.0</td>\n",
       "      <td>1</td>\n",
       "    </tr>\n",
       "    <tr>\n",
       "      <th>2</th>\n",
       "      <td>Does psammaplin A induce Sirtuin 1-dependent a...</td>\n",
       "      <td>Psammaplin A (PsA) is a natural product isolat...</td>\n",
       "      <td>PsA significantly inhibited MCF-7/adr cells pr...</td>\n",
       "      <td>['Acetylation' 'Animals' 'Antibiotics, Antineo...</td>\n",
       "      <td>18</td>\n",
       "      <td>82</td>\n",
       "      <td>1.0</td>\n",
       "      <td>3.0</td>\n",
       "      <td>1</td>\n",
       "    </tr>\n",
       "    <tr>\n",
       "      <th>3</th>\n",
       "      <td>Is methylation of the FGFR2 gene associated wi...</td>\n",
       "      <td>This study examined links between DNA methylat...</td>\n",
       "      <td>We identified a novel biologically plausible c...</td>\n",
       "      <td>[]</td>\n",
       "      <td>14</td>\n",
       "      <td>113</td>\n",
       "      <td>NaN</td>\n",
       "      <td>NaN</td>\n",
       "      <td>1</td>\n",
       "    </tr>\n",
       "    <tr>\n",
       "      <th>4</th>\n",
       "      <td>Do tumor-infiltrating immune cell profiles and...</td>\n",
       "      <td>Tumor microenvironment immunity is associated ...</td>\n",
       "      <td>Breast cancer immune cell subpopulation profil...</td>\n",
       "      <td>['Adult' 'Aged' 'Anthracyclines' 'Antibodies, ...</td>\n",
       "      <td>18</td>\n",
       "      <td>185</td>\n",
       "      <td>11.0</td>\n",
       "      <td>3.0</td>\n",
       "      <td>1</td>\n",
       "    </tr>\n",
       "  </tbody>\n",
       "</table>\n",
       "</div>"
      ],
      "text/plain": [
       "                                            question  \\\n",
       "0  Are group 2 innate lymphoid cells ( ILC2s ) in...   \n",
       "1  Does vagus nerve contribute to the development...   \n",
       "2  Does psammaplin A induce Sirtuin 1-dependent a...   \n",
       "3  Is methylation of the FGFR2 gene associated wi...   \n",
       "4  Do tumor-infiltrating immune cell profiles and...   \n",
       "\n",
       "                                             context  \\\n",
       "0  Chronic rhinosinusitis (CRS) is a heterogeneou...   \n",
       "1  Phosphatidylethanolamine N-methyltransferase (...   \n",
       "2  Psammaplin A (PsA) is a natural product isolat...   \n",
       "3  This study examined links between DNA methylat...   \n",
       "4  Tumor microenvironment immunity is associated ...   \n",
       "\n",
       "                                              answer  \\\n",
       "0  As ILC2s are elevated in patients with CRSwNP,...   \n",
       "1  Neuronal signals via the hepatic vagus nerve c...   \n",
       "2  PsA significantly inhibited MCF-7/adr cells pr...   \n",
       "3  We identified a novel biologically plausible c...   \n",
       "4  Breast cancer immune cell subpopulation profil...   \n",
       "\n",
       "                                              meshes  question_length  \\\n",
       "0  ['Adult' 'Aged' 'Antigens, Surface' 'Case-Cont...               18   \n",
       "1  ['Animals' 'Chemokine CCL2' 'Diet, High-Fat' '...               16   \n",
       "2  ['Acetylation' 'Animals' 'Antibiotics, Antineo...               18   \n",
       "3                                                 []               14   \n",
       "4  ['Adult' 'Aged' 'Anthracyclines' 'Antibodies, ...               18   \n",
       "\n",
       "   context_length  topic_hdp  category_hdp  topic_lda  \n",
       "0             266       42.0           1.0          1  \n",
       "1             216       97.0           5.0          1  \n",
       "2              82        1.0           3.0          1  \n",
       "3             113        NaN           NaN          1  \n",
       "4             185       11.0           3.0          1  "
      ]
     },
     "execution_count": 44,
     "metadata": {},
     "output_type": "execute_result"
    }
   ],
   "source": [
    "evaluation_df.head()"
   ]
  },
  {
   "cell_type": "code",
   "execution_count": 45,
   "metadata": {
    "colab": {
     "base_uri": "https://localhost:8080/",
     "height": 645
    },
    "id": "XP1fBqeG4R-o",
    "outputId": "f590c84b-d8e2-48fd-f8d5-e0a5a3c598fd"
   },
   "outputs": [
    {
     "data": {
      "image/png": "[encoded data removed]",
      "text/plain": [
       "<Figure size 1000x700 with 1 Axes>"
      ]
     },
     "metadata": {},
     "output_type": "display_data"
    }
   ],
   "source": [
    "# Hierarchical Clustering for LDA Topics\n",
    "lda_topic_word_distributions = lda_model.get_topics()\n",
    "similarity_matrix_lda = cosine_similarity(lda_topic_word_distributions)\n",
    "distance_matrix_lda = 1 - similarity_matrix_lda\n",
    "linked_lda = linkage(distance_matrix_lda, 'ward')\n",
    "\n",
    "plt.figure(figsize=(10, 7))\n",
    "dendrogram(linked_lda, orientation='top', distance_sort='descending', show_leaf_counts=True)\n",
    "plt.title('Hierarchical Clustering Dendrogram of LDA Topics in PubmedQA Dataset')\n",
    "plt.xlabel('Topic Index')\n",
    "plt.ylabel('Distance')\n",
    "plt.show()"
   ]
  },
  {
   "cell_type": "code",
   "execution_count": 48,
   "metadata": {
    "id": "3U6l53Gf4R-o"
   },
   "outputs": [],
   "source": [
    "num_clusters_lda = 2  # Adjusted based on dendrogram\n",
    "cluster_labels_lda = fcluster(linked_lda, num_clusters_lda, criterion='maxclust')\n",
    "topic_to_category_lda = {topic_idx: cluster_label for topic_idx, cluster_label in enumerate(cluster_labels_lda)}\n",
    "evaluation_df['category_lda'] = evaluation_df['topic_lda'].map(topic_to_category_lda)"
   ]
  },
  {
   "cell_type": "code",
   "execution_count": 61,
   "metadata": {
    "colab": {
     "base_uri": "https://localhost:8080/"
    },
    "id": "pP6xa60t4R-p",
    "outputId": "dc254f65-d5bd-472f-a6d8-2450aa2502e7"
   },
   "outputs": [
    {
     "name": "stdout",
     "output_type": "stream",
     "text": [
      "\n",
      "HDP Model Coherence Score: 0.1632\n",
      "LDA Model Coherence Score: 0.4107\n",
      "LDA intertopic distance map saved as 'lda_pubmedqa_intertopic_distance.html'\n",
      "HDP intertopic distance map saved as 'hdp_pubmedqa_intertopic_distance.html'\n",
      "\n",
      "Enriched DataFrame saved as 'pubmedqa_cleaned_topics'\n"
     ]
    }
   ],
   "source": [
    "# ---------------- Comparison ----------------\n",
    "# Quantitative Comparison\n",
    "print(f\"\\nHDP Model Coherence Score: {coherence_score_hdp:.4f}\")\n",
    "print(f\"LDA Model Coherence Score: {coherence_score_lda:.4f}\")\n",
    "\n",
    "# Qualitative Comparison using pyLDAvis\n",
    "# Filter out any empty documents from the corpus\n",
    "filtered_corpus = [doc for doc in corpus if len(doc) > 0]\n",
    "\n",
    "# LDA Visualization with filtered corpus\n",
    "lda_vis = gensimvis.prepare(lda_model, filtered_corpus, dictionary)\n",
    "pyLDAvis.save_html(lda_vis, '../files/lda_pubmedqa_intertopic_distance.html')\n",
    "print(\"LDA intertopic distance map saved as 'lda_pubmedqa_intertopic_distance.html'\")\n",
    "\n",
    "# HDP Visualization with filtered corpus\n",
    "hdp_vis = gensimvis.prepare(hdp_model, filtered_corpus, dictionary)\n",
    "pyLDAvis.save_html(hdp_vis, '../files/hdp_pubmedqa_intertopic_distance.html')\n",
    "print(\"HDP intertopic distance map saved as 'hdp_pubmedqa_intertopic_distance.html'\")\n",
    "\n",
    "# Save the enriched DataFrame\n",
    "evaluation_df.to_csv('../data/cleaned/pubmedqa/pubmedqa_cleaned_topics.csv', index=False, encoding='utf-8')\n",
    "print(\"\\nEnriched DataFrame saved as 'pubmedqa_cleaned_topics'\")"
   ]
  }
 ],
 "metadata": {
  "accelerator": "GPU",
  "colab": {
   "collapsed_sections": [
    "WH3fVniZ5KoM",
    "cQD9EFAw6xfy",
    "boN8E4OH5Z1M",
    "lq8UrDL08MkM",
    "I5wnq4ue81rK",
    "1pqO9ufb9Wy7",
    "c3oHT47B-Bso",
    "A7uCKf45-1z9"
   ],
   "gpuType": "L4",
   "machine_shape": "hm",
   "provenance": []
  },
  "kernelspec": {
   "display_name": "Python 3 (ipykernel)",
   "language": "python",
   "name": "python3"
  },
  "language_info": {
   "codemirror_mode": {
    "name": "ipython",
    "version": 3
   },
   "file_extension": ".py",
   "mimetype": "text/x-python",
   "name": "python",
   "nbconvert_exporter": "python",
   "pygments_lexer": "ipython3",
   "version": "3.12.5"
  }
 },
 "nbformat": 4,
 "nbformat_minor": 4
}
